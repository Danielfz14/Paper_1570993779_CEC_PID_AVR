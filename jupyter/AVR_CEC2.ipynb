{
 "cells": [
  {
   "cell_type": "code",
   "execution_count": 1,
   "id": "00153b20",
   "metadata": {},
   "outputs": [
    {
     "name": "stderr",
     "output_type": "stream",
     "text": [
      "benchmark_func.py:29: ImportWarning: `optproblems` not found! Please, install it to use the cec2005 benchmark functions\n"
     ]
    }
   ],
   "source": [
    "import matplotlib.pyplot as plt\n",
    "from mpl_toolkits.mplot3d import Axes3D\n",
    "%matplotlib inline\n",
    "import matplotlib as mpl\n",
    "mpl.rcParams.update(mpl.rcParamsDefault)\n",
    "import numpy as np\n",
    "import pandas as pd\n",
    "\n",
    "import customhys as mh\n",
    "from customhys import metaheuristic as mh\n",
    "from customhys import benchmark_func as bf\n",
    "from customhys import hyperheuristic as hh\n",
    "import numpy as np\n",
    "import matplotlib.pyplot as plt\n",
    "import matlab.engine \n",
    "eng=matlab.engine.start_matlab()\n",
    "eng = matlab.engine.start_matlab(\"-desktop\")\n"
   ]
  },
  {
   "cell_type": "code",
   "execution_count": 2,
   "id": "d747e70b",
   "metadata": {},
   "outputs": [],
   "source": [
    "\n",
    "class P1(bf.BasicProblem):\n",
    "    def __init__(self, variable_num):\n",
    "        super().__init__(variable_num)\n",
    "        self.max_search_range =np.array([1.5, 1.5, 1 ])                    \n",
    "        self.min_search_range = np.array([0.000001, 0.0000001,0.0000001]) \n",
    "        self.global_optimum_solution = 0.\n",
    "        self.func_name = 'P1'\n",
    "    def get_func_val(self, variables, *args):\n",
    "        fcost=eng.AVR_PID_CEC_p1(float(variables[0]),float(variables[1]),float(variables[2]))\n",
    "        return fcost "
   ]
  },
  {
   "cell_type": "code",
   "execution_count": 5,
   "id": "d1676a27",
   "metadata": {},
   "outputs": [],
   "source": [
    "\n",
    "fun = P1(3)\n",
    "prob = fun. get_formatted_problem ()\n",
    "parameters = dict(\n",
    "    cardinality=3,  # Max. numb. of SOs in MHs, lvl:1\n",
    "    cardinality_min=2,  # Min. numb. of SOs in MHs, lvl:1\n",
    "    num_iterations=20,  # Iterations a MH performs, lvl:1\n",
    "    num_agents=10,  # Agents in population,     lvl:1\n",
    "    as_mh=True,  # HH sequence as a MH?,     lvl:2\n",
    "    num_replicas=20,  # Replicas per each MH,     lvl:2\n",
    "    num_steps=10,  # Trials per HH step,       lvl:2\n",
    "    stagnation_percentage=0.37,  # Stagnation percentage,    lvl:2\n",
    "    max_temperature=100,  # Initial temperature (SA), lvl:2\n",
    "    min_temperature=1e-6,  # Min temperature (SA),     lvl:2\n",
    "    cooling_rate=1e-3,  # Cooling rate (SA),        lvl:2\n",
    "    temperature_scheme='fast',  # Temperature updating (SA),lvl:2\n",
    "    acceptance_scheme='exponential',  # Acceptance mode,          lvl:2\n",
    "    allow_weight_matrix=True,  # Weight matrix,            lvl:2\n",
    "    trial_overflow=False,  # Trial overflow policy,    lvl:2\n",
    "    learnt_dataset=None,  # If it is a learnt dataset related with the heuristic space\n",
    "    repeat_operators=True,  # Allow repeating SOs inSeq,lvl:2\n",
    "    verbose=True,  # Verbose process,          lvl:2\n",
    "    learning_portion=0.37,  # Percent of seqs to learn  lvl:2\n",
    "    solver='static')  # Indicate which solver use lvl:1\n",
    "\n",
    "heuristic_space=\"short_collection2.txt\"\n",
    "\n",
    "with open('C:/Users/A00836756/AppData/Local/anaconda3/Lib/site-packages/customhys/collections/' + heuristic_space, 'r', encoding='utf-8') as operators_file:\n",
    "    heuristic_space_list = [eval(line.rstrip('\\n')) for line in operators_file]\n",
    "\n",
    "hyp = hh.Hyperheuristic(heuristic_space_list,problem=prob, parameters=parameters, file_label='CEC_PID_exp1')\n"
   ]
  },
  {
   "cell_type": "code",
   "execution_count": 6,
   "id": "7b7b1b8a",
   "metadata": {},
   "outputs": [
    {
     "name": "stdout",
     "output_type": "stream",
     "text": [
      "CEC_PID_exp1 :: Step:    0, Action: None        , Temp: 1.00e+02, Card:   2, Perf: 1.89e+00 [Initial]\n",
      "CEC_PID_exp1 :: Step:    1, Action: Add         , Temp: 1.00e+02, Card:   3, candPerf: 1.51e+00, currPerf: 1.89e+00, bestPerf: 1.89e+00 , [Delta: -3.85e-01, ArgProb: 1.33e-03, Prob: 1.00] A+\n",
      "CEC_PID_exp1 :: Step:    2, Action: Swap        , Temp: 5.00e+01, Card:   3, candPerf: 1.21e+00, currPerf: 1.51e+00, bestPerf: 1.51e+00 , [Delta: -2.97e-01, ArgProb: 2.05e-03, Prob: 1.00] A+\n",
      "CEC_PID_exp1 :: Step:    3, Action: Shift       , Temp: 3.33e+01, Card:   3, candPerf: 2.44e+00, currPerf: 1.21e+00, bestPerf: 1.21e+00 , [Delta: 1.23e+00, ArgProb: -1.28e-02, Prob: 0.99] A\n",
      "CEC_PID_exp1 :: Step:    4, Action: Shift       , Temp: 2.50e+01, Card:   3, candPerf: 1.79e+00, currPerf: 2.44e+00, bestPerf: 1.21e+00 , [Delta: -6.50e-01, ArgProb: 8.99e-03, Prob: 1.00] A\n",
      "CEC_PID_exp1 :: Step:    5, Action: LocalShift  , Temp: 2.00e+01, Card:   3, candPerf: 2.03e+00, currPerf: 1.79e+00, bestPerf: 1.21e+00 , [Delta: 2.41e-01, ArgProb: -4.16e-03, Prob: 1.00] A\n",
      "CEC_PID_exp1 :: Step:    6, Action: Swap        , Temp: 1.67e+01, Card:   3, candPerf: 1.96e+00, currPerf: 2.03e+00, bestPerf: 1.21e+00 , [Delta: -7.45e-02, ArgProb: 1.55e-03, Prob: 1.00] A\n",
      "\n",
      "BEST --> Perf: 1.2100706591871417, e-Sol: [22 10  6]\n"
     ]
    }
   ],
   "source": [
    "best_sol, best_perf, hist_curr, hist_best =hyp.solve()"
   ]
  },
  {
   "cell_type": "code",
   "execution_count": 7,
   "id": "c8e8c602",
   "metadata": {},
   "outputs": [
    {
     "name": "stdout",
     "output_type": "stream",
     "text": [
      "Performance:  1.2100706591871417\n",
      "[22 10  6]\n",
      "[('random_search', {'scale': 1.0, 'distribution': 'uniform'}, 'greedy'), ('genetic_crossover', {'pairing': 'tournament_2_100', 'crossover': 'uniform', 'mating_pool_factor': 0.4}, 'all'), ('genetic_crossover', {'pairing': 'tournament_2_100', 'crossover': 'uniform', 'mating_pool_factor': 0.4}, 'all')]\n"
     ]
    }
   ],
   "source": [
    "print(\"Performance: \", best_perf)\n",
    "print(best_sol)\n",
    "heur=[ heuristic_space_list[best_sol[0]] ]\n",
    "for i in range(1, len(best_sol)):\n",
    "    heur.append(heuristic_space_list[best_sol[i]])\n",
    "print(heur)"
   ]
  },
  {
   "cell_type": "code",
   "execution_count": 8,
   "id": "eca0f74d",
   "metadata": {},
   "outputs": [
    {
     "name": "stdout",
     "output_type": "stream",
     "text": [
      "CEC_PID_exp2 :: Step:    0, Action: None        , Temp: 1.00e+02, Card:   2, Perf: 1.14e+00 [Initial]\n",
      "CEC_PID_exp2 :: Step:    1, Action: Shift       , Temp: 1.00e+02, Card:   2, candPerf: 3.71e+00, currPerf: 1.14e+00, bestPerf: 1.14e+00 , [Delta: 2.58e+00, ArgProb: -1.20e-02, Prob: 0.99] A\n",
      "CEC_PID_exp2 :: Step:    2, Action: Mirror      , Temp: 5.00e+01, Card:   2, candPerf: 3.36e+00, currPerf: 3.71e+00, bestPerf: 1.14e+00 , [Delta: -3.55e-01, ArgProb: 3.32e-03, Prob: 1.00] A\n",
      "CEC_PID_exp2 :: Step:    3, Action: RollMany    , Temp: 3.33e+01, Card:   2, candPerf: 2.99e+00, currPerf: 3.36e+00, bestPerf: 1.14e+00 , [Delta: -3.73e-01, ArgProb: 5.23e-03, Prob: 1.00] A\n",
      "CEC_PID_exp2 :: Step:    4, Action: Restart     , Temp: 2.50e+01, Card:   2, candPerf: 3.29e+01, currPerf: 2.99e+00, bestPerf: 1.14e+00 , [Delta: 2.99e+01, ArgProb: -5.59e-01, Prob: 0.57] \n",
      "\n",
      "BEST --> Perf: 1.1391639398133018, e-Sol: [10 26]\n",
      "Performance:  1.1391639398133018\n",
      "[10 26]\n",
      "[('genetic_crossover', {'pairing': 'tournament_2_100', 'crossover': 'uniform', 'mating_pool_factor': 0.4}, 'all'), ('swarm_dynamic', {'factor': 0.7, 'self_conf': 2.54, 'swarm_conf': 2.56, 'version': 'inertial', 'distribution': 'uniform'}, 'all')]\n"
     ]
    }
   ],
   "source": [
    "hyp = hh.Hyperheuristic(heuristic_space_list,problem=prob, parameters=parameters, file_label='CEC_PID_exp2')\n",
    "best_sol, best_perf, hist_curr, hist_best =hyp.solve()\n",
    "print(\"Performance: \", best_perf)\n",
    "print(best_sol)\n",
    "heur=[ heuristic_space_list[best_sol[0]] ]\n",
    "for i in range(1, len(best_sol)):\n",
    "    heur.append(heuristic_space_list[best_sol[1]])\n",
    "print(heur)"
   ]
  },
  {
   "cell_type": "code",
   "execution_count": 9,
   "id": "89a571ca",
   "metadata": {},
   "outputs": [
    {
     "name": "stdout",
     "output_type": "stream",
     "text": [
      "CEC_PID_exp3 :: Step:    0, Action: None        , Temp: 1.00e+02, Card:   2, Perf: 3.28e-01 [Initial]\n",
      "CEC_PID_exp3 :: Step:    1, Action: Roll        , Temp: 1.00e+02, Card:   2, candPerf: 1.89e-01, currPerf: 3.28e-01, bestPerf: 3.28e-01 , [Delta: -1.39e-01, ArgProb: 1.05e-03, Prob: 1.00] A+\n",
      "CEC_PID_exp3 :: Step:    2, Action: RollMany    , Temp: 5.00e+01, Card:   2, candPerf: 2.79e-01, currPerf: 1.89e-01, bestPerf: 1.89e-01 , [Delta: 9.04e-02, ArgProb: -1.36e-03, Prob: 1.00] A\n",
      "CEC_PID_exp3 :: Step:    3, Action: Swap        , Temp: 3.33e+01, Card:   2, candPerf: 2.33e-01, currPerf: 2.79e-01, bestPerf: 1.89e-01 , [Delta: -4.59e-02, ArgProb: 1.04e-03, Prob: 1.00] A\n",
      "CEC_PID_exp3 :: Step:    4, Action: RollMany    , Temp: 2.50e+01, Card:   2, candPerf: 2.61e-01, currPerf: 2.33e-01, bestPerf: 1.89e-01 , [Delta: 2.77e-02, ArgProb: -8.34e-04, Prob: 1.00] A\n",
      "CEC_PID_exp3 :: Step:    5, Action: Mirror      , Temp: 2.00e+01, Card:   2, candPerf: 2.78e-01, currPerf: 2.61e-01, bestPerf: 1.89e-01 , [Delta: 1.65e-02, ArgProb: -6.21e-04, Prob: 1.00] A\n",
      "\n",
      "BEST --> Perf: 0.18883780323378282, e-Sol: [ 3 29]\n",
      "Performance:  0.18883780323378282\n",
      "[ 3 29]\n",
      "[('differential_mutation', {'expression': 'current-to-best', 'num_rands': 1, 'factor': 1.0}, 'greedy'), ('swarm_dynamic', {'factor': 1.0, 'self_conf': 2.54, 'swarm_conf': 2.56, 'version': 'constriction', 'distribution': 'uniform'}, 'greedy')]\n"
     ]
    }
   ],
   "source": [
    "hyp = hh.Hyperheuristic(heuristic_space_list,problem=prob, parameters=parameters, file_label='CEC_PID_exp3')\n",
    "best_sol, best_perf, hist_curr, hist_best =hyp.solve()\n",
    "print(\"Performance: \", best_perf)\n",
    "print(best_sol)\n",
    "heur=[ heuristic_space_list[best_sol[0]] ]\n",
    "for i in range(1, len(best_sol)):\n",
    "    heur.append(heuristic_space_list[best_sol[1]])\n",
    "print(heur)"
   ]
  },
  {
   "cell_type": "code",
   "execution_count": 10,
   "id": "6fb34d9f",
   "metadata": {},
   "outputs": [
    {
     "name": "stdout",
     "output_type": "stream",
     "text": [
      "CEC_PID_exp4 :: Step:    0, Action: None        , Temp: 1.00e+02, Card:   2, Perf: 1.34e+01 [Initial]\n",
      "CEC_PID_exp4 :: Step:    1, Action: Add         , Temp: 1.00e+02, Card:   3, candPerf: 3.41e+00, currPerf: 1.34e+01, bestPerf: 1.34e+01 , [Delta: -9.95e+00, ArgProb: 6.93e-03, Prob: 1.00] A+\n",
      "CEC_PID_exp4 :: Step:    2, Action: Remove      , Temp: 5.00e+01, Card:   2, candPerf: 3.46e+00, currPerf: 3.41e+00, bestPerf: 3.41e+00 , [Delta: 5.39e-02, ArgProb: -7.50e-05, Prob: 1.00] A\n",
      "CEC_PID_exp4 :: Step:    3, Action: Restart     , Temp: 3.33e+01, Card:   2, candPerf: 4.61e-01, currPerf: 3.46e+00, bestPerf: 3.41e+00 , [Delta: -3.00e+00, ArgProb: 6.27e-03, Prob: 1.00] A+\n",
      "CEC_PID_exp4 :: Step:    4, Action: Shift       , Temp: 2.50e+01, Card:   2, candPerf: 1.15e+00, currPerf: 4.61e-01, bestPerf: 4.61e-01 , [Delta: 6.88e-01, ArgProb: -1.91e-03, Prob: 1.00] A\n",
      "CEC_PID_exp4 :: Step:    5, Action: Roll        , Temp: 2.00e+01, Card:   2, candPerf: 1.16e+00, currPerf: 1.15e+00, bestPerf: 4.61e-01 , [Delta: 1.15e-02, ArgProb: -4.01e-05, Prob: 1.00] A\n",
      "CEC_PID_exp4 :: Step:    6, Action: Shift       , Temp: 1.67e+01, Card:   2, candPerf: 2.23e+00, currPerf: 1.16e+00, bestPerf: 4.61e-01 , [Delta: 1.07e+00, ArgProb: -4.45e-03, Prob: 1.00] A\n",
      "CEC_PID_exp4 :: Step:    7, Action: LocalShift  , Temp: 1.43e+01, Card:   2, candPerf: 2.03e+00, currPerf: 2.23e+00, bestPerf: 4.61e-01 , [Delta: -1.94e-01, ArgProb: 9.45e-04, Prob: 1.00] A\n",
      "\n",
      "BEST --> Perf: 0.4611416399568057, e-Sol: [16 29]\n",
      "Performance:  0.4611416399568057\n",
      "[16 29]\n",
      "[('random_flight', {'scale': 1.0, 'distribution': 'levy', 'beta': 1.5}, 'all'), ('swarm_dynamic', {'factor': 1.0, 'self_conf': 2.54, 'swarm_conf': 2.56, 'version': 'constriction', 'distribution': 'uniform'}, 'greedy')]\n"
     ]
    }
   ],
   "source": [
    "hyp = hh.Hyperheuristic(heuristic_space_list,problem=prob, parameters=parameters, file_label='CEC_PID_exp4')\n",
    "best_sol, best_perf, hist_curr, hist_best =hyp.solve()\n",
    "print(\"Performance: \", best_perf)\n",
    "print(best_sol)\n",
    "heur=[ heuristic_space_list[best_sol[0]] ]\n",
    "for i in range(1, len(best_sol)):\n",
    "    heur.append(heuristic_space_list[best_sol[1]])\n",
    "print(heur)"
   ]
  },
  {
   "cell_type": "code",
   "execution_count": 11,
   "id": "abe1cb65",
   "metadata": {},
   "outputs": [
    {
     "name": "stdout",
     "output_type": "stream",
     "text": [
      "CEC_PID_exp5 :: Step:    0, Action: None        , Temp: 1.00e+02, Card:   2, Perf: 9.41e+00 [Initial]\n",
      "CEC_PID_exp5 :: Step:    1, Action: Add         , Temp: 1.00e+02, Card:   3, candPerf: 1.93e+00, currPerf: 9.41e+00, bestPerf: 9.41e+00 , [Delta: -7.48e+00, ArgProb: 7.18e-03, Prob: 1.00] A+\n",
      "CEC_PID_exp5 :: Step:    2, Action: Restart     , Temp: 5.00e+01, Card:   3, candPerf: 2.71e+00, currPerf: 1.93e+00, bestPerf: 1.93e+00 , [Delta: 7.75e-01, ArgProb: -1.49e-03, Prob: 1.00] A\n",
      "CEC_PID_exp5 :: Step:    3, Action: RollMany    , Temp: 3.33e+01, Card:   3, candPerf: 3.04e+00, currPerf: 2.71e+00, bestPerf: 1.93e+00 , [Delta: 3.36e-01, ArgProb: -9.69e-04, Prob: 1.00] A\n",
      "CEC_PID_exp5 :: Step:    4, Action: RollMany    , Temp: 2.50e+01, Card:   3, candPerf: 3.28e+00, currPerf: 3.04e+00, bestPerf: 1.93e+00 , [Delta: 2.42e-01, ArgProb: -9.30e-04, Prob: 1.00] A\n",
      "CEC_PID_exp5 :: Step:    5, Action: Shift       , Temp: 2.00e+01, Card:   3, candPerf: 2.46e+00, currPerf: 3.28e+00, bestPerf: 1.93e+00 , [Delta: -8.23e-01, ArgProb: 3.95e-03, Prob: 1.00] A\n",
      "\n",
      "BEST --> Perf: 1.9306329289811037, e-Sol: [11 25 29]\n",
      "Performance:  1.9306329289811037\n",
      "[11 25 29]\n",
      "[('genetic_crossover', {'pairing': 'tournament_2_100', 'crossover': 'uniform', 'mating_pool_factor': 0.4}, 'greedy'), ('spiral_dynamic', {'radius': 0.9, 'angle': 22.5, 'sigma': 0.1}, 'greedy'), ('spiral_dynamic', {'radius': 0.9, 'angle': 22.5, 'sigma': 0.1}, 'greedy')]\n"
     ]
    }
   ],
   "source": [
    "hyp = hh.Hyperheuristic(heuristic_space_list,problem=prob, parameters=parameters, file_label='CEC_PID_exp5')\n",
    "best_sol, best_perf, hist_curr, hist_best =hyp.solve()\n",
    "print(\"Performance: \", best_perf)\n",
    "print(best_sol)\n",
    "heur=[ heuristic_space_list[best_sol[0]] ]\n",
    "for i in range(1, len(best_sol)):\n",
    "    heur.append(heuristic_space_list[best_sol[1]])\n",
    "print(heur)"
   ]
  },
  {
   "cell_type": "code",
   "execution_count": 12,
   "id": "3ef0cf09",
   "metadata": {},
   "outputs": [
    {
     "name": "stdout",
     "output_type": "stream",
     "text": [
      "CEC_PID_exp6 :: Step:    0, Action: None        , Temp: 1.00e+02, Card:   2, Perf: 6.74e+00 [Initial]\n",
      "CEC_PID_exp6 :: Step:    1, Action: RollMany    , Temp: 1.00e+02, Card:   2, candPerf: 5.74e+00, currPerf: 6.74e+00, bestPerf: 6.74e+00 , [Delta: -1.00e+00, ArgProb: 1.30e-03, Prob: 1.00] A+\n",
      "CEC_PID_exp6 :: Step:    2, Action: RollMany    , Temp: 5.00e+01, Card:   2, candPerf: 3.82e+00, currPerf: 5.74e+00, bestPerf: 5.74e+00 , [Delta: -1.91e+00, ArgProb: 4.94e-03, Prob: 1.00] A+\n",
      "CEC_PID_exp6 :: Step:    3, Action: LocalShift  , Temp: 3.33e+01, Card:   2, candPerf: 9.92e+00, currPerf: 3.82e+00, bestPerf: 3.82e+00 , [Delta: 6.09e+00, ArgProb: -2.36e-02, Prob: 0.98] A\n",
      "CEC_PID_exp6 :: Step:    4, Action: Roll        , Temp: 2.50e+01, Card:   2, candPerf: 1.23e+01, currPerf: 9.92e+00, bestPerf: 3.82e+00 , [Delta: 2.35e+00, ArgProb: -1.21e-02, Prob: 0.99] A\n",
      "CEC_PID_exp6 :: Step:    5, Action: Roll        , Temp: 2.00e+01, Card:   2, candPerf: 7.07e+00, currPerf: 1.23e+01, bestPerf: 3.82e+00 , [Delta: -5.20e+00, ArgProb: 3.36e-02, Prob: 1.00] A\n",
      "CEC_PID_exp6 :: Step:    6, Action: Mirror      , Temp: 1.67e+01, Card:   2, candPerf: 6.26e+00, currPerf: 7.07e+00, bestPerf: 3.82e+00 , [Delta: -8.08e-01, ArgProb: 6.26e-03, Prob: 1.00] A\n",
      "\n",
      "BEST --> Perf: 3.8226672729967373, e-Sol: [ 2 17]\n",
      "Performance:  3.8226672729967373\n",
      "[ 2 17]\n",
      "[('differential_mutation', {'expression': 'current-to-best', 'num_rands': 1, 'factor': 1.0}, 'all'), ('random_flight', {'scale': 1.0, 'distribution': 'levy', 'beta': 1.5}, 'greedy')]\n"
     ]
    }
   ],
   "source": [
    "hyp = hh.Hyperheuristic(heuristic_space_list,problem=prob, parameters=parameters, file_label='CEC_PID_exp6')\n",
    "best_sol, best_perf, hist_curr, hist_best =hyp.solve()\n",
    "print(\"Performance: \", best_perf)\n",
    "print(best_sol)\n",
    "heur=[ heuristic_space_list[best_sol[0]] ]\n",
    "for i in range(1, len(best_sol)):\n",
    "    heur.append(heuristic_space_list[best_sol[1]])\n",
    "print(heur)"
   ]
  },
  {
   "cell_type": "code",
   "execution_count": 13,
   "id": "5d041039",
   "metadata": {},
   "outputs": [
    {
     "name": "stdout",
     "output_type": "stream",
     "text": [
      "CEC_PID_exp7 :: Step:    0, Action: None        , Temp: 1.00e+02, Card:   2, Perf: 1.46e+01 [Initial]\n",
      "CEC_PID_exp7 :: Step:    1, Action: Add         , Temp: 1.00e+02, Card:   3, candPerf: 8.37e+00, currPerf: 1.46e+01, bestPerf: 1.46e+01 , [Delta: -6.27e+00, ArgProb: 4.01e-03, Prob: 1.00] A+\n",
      "CEC_PID_exp7 :: Step:    2, Action: RollMany    , Temp: 5.00e+01, Card:   3, candPerf: 8.79e+00, currPerf: 8.37e+00, bestPerf: 8.37e+00 , [Delta: 4.18e-01, ArgProb: -5.34e-04, Prob: 1.00] A\n",
      "CEC_PID_exp7 :: Step:    3, Action: Roll        , Temp: 3.33e+01, Card:   3, candPerf: 1.36e+01, currPerf: 8.79e+00, bestPerf: 8.37e+00 , [Delta: 4.84e+00, ArgProb: -9.28e-03, Prob: 0.99] A\n",
      "CEC_PID_exp7 :: Step:    4, Action: Remove      , Temp: 2.50e+01, Card:   2, candPerf: 1.40e+01, currPerf: 1.36e+01, bestPerf: 8.37e+00 , [Delta: 4.23e-01, ArgProb: -1.08e-03, Prob: 1.00] A\n",
      "CEC_PID_exp7 :: Step:    5, Action: Roll        , Temp: 2.00e+01, Card:   2, candPerf: 1.24e+01, currPerf: 1.40e+01, bestPerf: 8.37e+00 , [Delta: -1.60e+00, ArgProb: 5.13e-03, Prob: 1.00] A\n",
      "\n",
      "BEST --> Perf: 8.369918456919093, e-Sol: [9 4 0]\n",
      "Performance:  8.369918456919093\n",
      "[9 4 0]\n",
      "[('genetic_crossover', {'pairing': 'cost', 'crossover': 'uniform', 'mating_pool_factor': 0.4}, 'greedy'), ('differential_mutation', {'expression': 'rand-to-best-and-current', 'num_rands': 1, 'factor': 1.0}, 'all'), ('differential_mutation', {'expression': 'rand-to-best-and-current', 'num_rands': 1, 'factor': 1.0}, 'all')]\n"
     ]
    }
   ],
   "source": [
    "hyp = hh.Hyperheuristic(heuristic_space_list,problem=prob, parameters=parameters, file_label='CEC_PID_exp7')\n",
    "best_sol, best_perf, hist_curr, hist_best =hyp.solve()\n",
    "print(\"Performance: \", best_perf)\n",
    "print(best_sol)\n",
    "heur=[ heuristic_space_list[best_sol[0]] ]\n",
    "for i in range(1, len(best_sol)):\n",
    "    heur.append(heuristic_space_list[best_sol[1]])\n",
    "print(heur)"
   ]
  },
  {
   "cell_type": "code",
   "execution_count": 14,
   "id": "cddeacc9",
   "metadata": {},
   "outputs": [
    {
     "name": "stdout",
     "output_type": "stream",
     "text": [
      "CEC_PID_exp8 :: Step:    0, Action: None        , Temp: 1.00e+02, Card:   2, Perf: 1.39e+00 [Initial]\n",
      "CEC_PID_exp8 :: Step:    1, Action: Add         , Temp: 1.00e+02, Card:   3, candPerf: 1.20e+00, currPerf: 1.39e+00, bestPerf: 1.39e+00 , [Delta: -1.90e-01, ArgProb: 7.95e-04, Prob: 1.00] A+\n",
      "CEC_PID_exp8 :: Step:    2, Action: Mirror      , Temp: 5.00e+01, Card:   3, candPerf: 1.02e+00, currPerf: 1.20e+00, bestPerf: 1.20e+00 , [Delta: -1.74e-01, ArgProb: 1.46e-03, Prob: 1.00] A+\n",
      "CEC_PID_exp8 :: Step:    3, Action: Shift       , Temp: 3.33e+01, Card:   3, candPerf: 2.52e-01, currPerf: 1.02e+00, bestPerf: 1.02e+00 , [Delta: -7.70e-01, ArgProb: 9.68e-03, Prob: 1.00] A+\n",
      "CEC_PID_exp8 :: Step:    4, Action: Swap        , Temp: 2.50e+01, Card:   3, candPerf: 1.00e+00, currPerf: 2.52e-01, bestPerf: 2.52e-01 , [Delta: 7.49e-01, ArgProb: -1.26e-02, Prob: 0.99] A\n",
      "CEC_PID_exp8 :: Step:    5, Action: Swap        , Temp: 2.00e+01, Card:   3, candPerf: 6.43e-01, currPerf: 1.00e+00, bestPerf: 2.52e-01 , [Delta: -3.58e-01, ArgProb: 7.51e-03, Prob: 1.00] A\n",
      "CEC_PID_exp8 :: Step:    6, Action: Roll        , Temp: 1.67e+01, Card:   3, candPerf: 5.44e-01, currPerf: 6.43e-01, bestPerf: 2.52e-01 , [Delta: -9.90e-02, ArgProb: 2.49e-03, Prob: 1.00] A\n",
      "CEC_PID_exp8 :: Step:    7, Action: Roll        , Temp: 1.43e+01, Card:   3, candPerf: 7.38e-01, currPerf: 5.44e-01, bestPerf: 2.52e-01 , [Delta: 1.94e-01, ArgProb: -5.69e-03, Prob: 0.99] A\n",
      "\n",
      "BEST --> Perf: 0.25239049539577496, e-Sol: [29 25 15]\n",
      "Performance:  0.25239049539577496\n",
      "[29 25 15]\n",
      "[('swarm_dynamic', {'factor': 1.0, 'self_conf': 2.54, 'swarm_conf': 2.56, 'version': 'constriction', 'distribution': 'uniform'}, 'greedy'), ('spiral_dynamic', {'radius': 0.9, 'angle': 22.5, 'sigma': 0.1}, 'greedy'), ('spiral_dynamic', {'radius': 0.9, 'angle': 22.5, 'sigma': 0.1}, 'greedy')]\n"
     ]
    }
   ],
   "source": [
    "hyp = hh.Hyperheuristic(heuristic_space_list,problem=prob, parameters=parameters, file_label='CEC_PID_exp8')\n",
    "best_sol, best_perf, hist_curr, hist_best =hyp.solve()\n",
    "print(\"Performance: \", best_perf)\n",
    "print(best_sol)\n",
    "heur=[ heuristic_space_list[best_sol[0]] ]\n",
    "for i in range(1, len(best_sol)):\n",
    "    heur.append(heuristic_space_list[best_sol[1]])\n",
    "print(heur)"
   ]
  },
  {
   "cell_type": "code",
   "execution_count": 15,
   "id": "a211f124",
   "metadata": {},
   "outputs": [
    {
     "name": "stdout",
     "output_type": "stream",
     "text": [
      "CEC_PID_exp9 :: Step:    0, Action: None        , Temp: 1.00e+02, Card:   2, Perf: 1.48e+00 [Initial]\n",
      "CEC_PID_exp9 :: Step:    1, Action: Roll        , Temp: 1.00e+02, Card:   2, candPerf: 1.28e+00, currPerf: 1.48e+00, bestPerf: 1.48e+00 , [Delta: -1.93e-01, ArgProb: 7.78e-04, Prob: 1.00] A+\n",
      "CEC_PID_exp9 :: Step:    2, Action: RollMany    , Temp: 5.00e+01, Card:   2, candPerf: 2.03e+00, currPerf: 1.28e+00, bestPerf: 1.28e+00 , [Delta: 7.43e-01, ArgProb: -6.00e-03, Prob: 0.99] A\n",
      "CEC_PID_exp9 :: Step:    3, Action: Add         , Temp: 3.33e+01, Card:   3, candPerf: 1.29e+00, currPerf: 2.03e+00, bestPerf: 1.28e+00 , [Delta: -7.35e-01, ArgProb: 8.91e-03, Prob: 1.00] A\n",
      "CEC_PID_exp9 :: Step:    4, Action: Swap        , Temp: 2.50e+01, Card:   3, candPerf: 1.44e+00, currPerf: 1.29e+00, bestPerf: 1.28e+00 , [Delta: 1.47e-01, ArgProb: -2.37e-03, Prob: 1.00] A\n",
      "CEC_PID_exp9 :: Step:    5, Action: Swap        , Temp: 2.00e+01, Card:   3, candPerf: 1.40e+00, currPerf: 1.44e+00, bestPerf: 1.28e+00 , [Delta: -3.87e-02, ArgProb: 7.81e-04, Prob: 1.00] A\n",
      "\n",
      "BEST --> Perf: 1.2830630804511889, e-Sol: [26 13]\n",
      "Performance:  1.2830630804511889\n",
      "[26 13]\n",
      "[('swarm_dynamic', {'factor': 0.7, 'self_conf': 2.54, 'swarm_conf': 2.56, 'version': 'inertial', 'distribution': 'uniform'}, 'all'), ('genetic_mutation', {'scale': 1.0, 'elite_rate': 0.1, 'mutation_rate': 0.25, 'distribution': 'uniform'}, 'greedy')]\n"
     ]
    }
   ],
   "source": [
    "hyp = hh.Hyperheuristic(heuristic_space_list,problem=prob, parameters=parameters, file_label='CEC_PID_exp9')\n",
    "best_sol, best_perf, hist_curr, hist_best =hyp.solve()\n",
    "print(\"Performance: \", best_perf)\n",
    "print(best_sol)\n",
    "heur=[ heuristic_space_list[best_sol[0]] ]\n",
    "for i in range(1, len(best_sol)):\n",
    "    heur.append(heuristic_space_list[best_sol[1]])\n",
    "print(heur)"
   ]
  },
  {
   "cell_type": "code",
   "execution_count": 16,
   "id": "0db9aee3",
   "metadata": {},
   "outputs": [
    {
     "name": "stdout",
     "output_type": "stream",
     "text": [
      "CEC_PID_exp10 :: Step:    0, Action: None        , Temp: 1.00e+02, Card:   2, Perf: 9.18e-01 [Initial]\n",
      "CEC_PID_exp10 :: Step:    1, Action: Restart     , Temp: 1.00e+02, Card:   2, candPerf: 1.21e+00, currPerf: 9.18e-01, bestPerf: 9.18e-01 , [Delta: 2.89e-01, ArgProb: -1.50e-03, Prob: 1.00] A\n",
      "CEC_PID_exp10 :: Step:    2, Action: Add         , Temp: 5.00e+01, Card:   3, candPerf: 2.05e-01, currPerf: 1.21e+00, bestPerf: 9.18e-01 , [Delta: -1.00e+00, ArgProb: 1.04e-02, Prob: 1.00] A+\n",
      "CEC_PID_exp10 :: Step:    3, Action: Roll        , Temp: 3.33e+01, Card:   3, candPerf: 1.76e-01, currPerf: 2.05e-01, bestPerf: 2.05e-01 , [Delta: -2.86e-02, ArgProb: 4.47e-04, Prob: 1.00] A+\n",
      "CEC_PID_exp10 :: Step:    4, Action: Swap        , Temp: 2.50e+01, Card:   3, candPerf: 1.45e-01, currPerf: 1.76e-01, bestPerf: 1.76e-01 , [Delta: -3.12e-02, ArgProb: 6.51e-04, Prob: 1.00] A+\n",
      "CEC_PID_exp10 :: Step:    5, Action: Shift       , Temp: 2.00e+01, Card:   3, candPerf: 1.59e-01, currPerf: 1.45e-01, bestPerf: 1.45e-01 , [Delta: 1.38e-02, ArgProb: -3.59e-04, Prob: 1.00] A\n",
      "CEC_PID_exp10 :: Step:    6, Action: Swap        , Temp: 1.67e+01, Card:   3, candPerf: 6.68e-01, currPerf: 1.59e-01, bestPerf: 1.45e-01 , [Delta: 5.09e-01, ArgProb: -1.59e-02, Prob: 0.98] A\n",
      "CEC_PID_exp10 :: Step:    7, Action: LocalShift  , Temp: 1.43e+01, Card:   3, candPerf: 1.74e-01, currPerf: 6.68e-01, bestPerf: 1.45e-01 , [Delta: -4.94e-01, ArgProb: 1.80e-02, Prob: 1.00] A\n",
      "CEC_PID_exp10 :: Step:    8, Action: RollMany    , Temp: 1.25e+01, Card:   3, candPerf: 1.84e-01, currPerf: 1.74e-01, bestPerf: 1.45e-01 , [Delta: 9.99e-03, ArgProb: -4.17e-04, Prob: 1.00] A\n",
      "\n",
      "BEST --> Perf: 0.14507404986861522, e-Sol: [25  3 28]\n",
      "Performance:  0.14507404986861522\n",
      "[25  3 28]\n",
      "[('spiral_dynamic', {'radius': 0.9, 'angle': 22.5, 'sigma': 0.1}, 'greedy'), ('differential_mutation', {'expression': 'current-to-best', 'num_rands': 1, 'factor': 1.0}, 'greedy'), ('differential_mutation', {'expression': 'current-to-best', 'num_rands': 1, 'factor': 1.0}, 'greedy')]\n"
     ]
    }
   ],
   "source": [
    "hyp = hh.Hyperheuristic(heuristic_space_list,problem=prob, parameters=parameters, file_label='CEC_PID_exp10')\n",
    "best_sol, best_perf, hist_curr, hist_best =hyp.solve()\n",
    "print(\"Performance: \", best_perf)\n",
    "print(best_sol)\n",
    "heur=[ heuristic_space_list[best_sol[0]] ]\n",
    "for i in range(1, len(best_sol)):\n",
    "    heur.append(heuristic_space_list[best_sol[1]])\n",
    "print(heur)"
   ]
  },
  {
   "cell_type": "code",
   "execution_count": 17,
   "id": "eafd8498",
   "metadata": {},
   "outputs": [
    {
     "name": "stdout",
     "output_type": "stream",
     "text": [
      "CEC_PID_exp10_1 :: Step:    0, Action: None        , Temp: 1.00e+02, Card:   2, Perf: 3.25e+01 [Initial]\n",
      "CEC_PID_exp10_1 :: Step:    1, Action: Add         , Temp: 1.00e+02, Card:   3, candPerf: 2.47e+00, currPerf: 3.25e+01, bestPerf: 3.25e+01 , [Delta: -3.00e+01, ArgProb: 8.96e-03, Prob: 1.00] A+\n",
      "CEC_PID_exp10_1 :: Step:    2, Action: RollMany    , Temp: 5.00e+01, Card:   3, candPerf: 2.33e+00, currPerf: 2.47e+00, bestPerf: 2.47e+00 , [Delta: -1.38e-01, ArgProb: 8.26e-05, Prob: 1.00] A+\n",
      "CEC_PID_exp10_1 :: Step:    3, Action: RollMany    , Temp: 3.33e+01, Card:   3, candPerf: 2.28e+00, currPerf: 2.33e+00, bestPerf: 2.33e+00 , [Delta: -5.02e-02, ArgProb: 4.50e-05, Prob: 1.00] A+\n",
      "CEC_PID_exp10_1 :: Step:    4, Action: Remove      , Temp: 2.50e+01, Card:   2, candPerf: 2.06e+00, currPerf: 2.28e+00, bestPerf: 2.28e+00 , [Delta: -2.21e-01, ArgProb: 2.64e-04, Prob: 1.00] A+\n",
      "CEC_PID_exp10_1 :: Step:    5, Action: RollMany    , Temp: 2.00e+01, Card:   2, candPerf: 2.62e+00, currPerf: 2.06e+00, bestPerf: 2.06e+00 , [Delta: 5.58e-01, ArgProb: -8.33e-04, Prob: 1.00] A\n",
      "CEC_PID_exp10_1 :: Step:    6, Action: Restart     , Temp: 1.67e+01, Card:   2, candPerf: 4.62e+00, currPerf: 2.62e+00, bestPerf: 2.06e+00 , [Delta: 2.00e+00, ArgProb: -3.59e-03, Prob: 1.00] A\n",
      "CEC_PID_exp10_1 :: Step:    7, Action: Swap        , Temp: 1.43e+01, Card:   2, candPerf: 3.64e+00, currPerf: 4.62e+00, bestPerf: 2.06e+00 , [Delta: -9.84e-01, ArgProb: 2.06e-03, Prob: 1.00] A\n",
      "CEC_PID_exp10_1 :: Step:    8, Action: RollMany    , Temp: 1.25e+01, Card:   2, candPerf: 3.36e+00, currPerf: 3.64e+00, bestPerf: 2.06e+00 , [Delta: -2.73e-01, ArgProb: 6.52e-04, Prob: 1.00] A\n",
      "\n",
      "BEST --> Perf: 2.0602027150703695, e-Sol: [18 21]\n",
      "Performance:  2.0602027150703695\n",
      "[18 21]\n",
      "[('local_random_walk', {'probability': 0.75, 'scale': 1.0, 'distribution': 'gaussian'}, 'all'), ('random_sample', {}, 'greedy')]\n"
     ]
    }
   ],
   "source": [
    "hyp = hh.Hyperheuristic(heuristic_space_list,problem=prob, parameters=parameters, file_label='CEC_PID_exp10_1')\n",
    "best_sol, best_perf, hist_curr, hist_best =hyp.solve()\n",
    "print(\"Performance: \", best_perf)\n",
    "print(best_sol)\n",
    "heur=[ heuristic_space_list[best_sol[0]] ]\n",
    "for i in range(1, len(best_sol)):\n",
    "    heur.append(heuristic_space_list[best_sol[1]])\n",
    "print(heur)"
   ]
  },
  {
   "cell_type": "code",
   "execution_count": 18,
   "id": "989b9ddc",
   "metadata": {},
   "outputs": [
    {
     "name": "stdout",
     "output_type": "stream",
     "text": [
      "CEC_PID_exp11 :: Step:    0, Action: None        , Temp: 1.00e+02, Card:   2, Perf: 1.77e+00 [Initial]\n",
      "CEC_PID_exp11 :: Step:    1, Action: LocalShift  , Temp: 1.00e+02, Card:   2, candPerf: 9.98e-01, currPerf: 1.77e+00, bestPerf: 1.77e+00 , [Delta: -7.67e-01, ArgProb: 2.77e-03, Prob: 1.00] A+\n",
      "CEC_PID_exp11 :: Step:    2, Action: Shift       , Temp: 5.00e+01, Card:   2, candPerf: 1.42e+00, currPerf: 9.98e-01, bestPerf: 9.98e-01 , [Delta: 4.23e-01, ArgProb: -3.06e-03, Prob: 1.00] A\n",
      "CEC_PID_exp11 :: Step:    3, Action: Restart     , Temp: 3.33e+01, Card:   2, candPerf: 4.26e+00, currPerf: 1.42e+00, bestPerf: 9.98e-01 , [Delta: 2.83e+00, ArgProb: -3.07e-02, Prob: 0.97] A\n",
      "CEC_PID_exp11 :: Step:    4, Action: RollMany    , Temp: 2.50e+01, Card:   2, candPerf: 3.30e+00, currPerf: 4.26e+00, bestPerf: 9.98e-01 , [Delta: -9.58e-01, ArgProb: 1.39e-02, Prob: 1.00] A\n",
      "CEC_PID_exp11 :: Step:    5, Action: Swap        , Temp: 2.00e+01, Card:   2, candPerf: 4.06e+00, currPerf: 3.30e+00, bestPerf: 9.98e-01 , [Delta: 7.59e-01, ArgProb: -1.37e-02, Prob: 0.99] A\n",
      "\n",
      "BEST --> Perf: 0.9984007088722038, e-Sol: [19 24]\n",
      "Performance:  0.9984007088722038\n",
      "[19 24]\n",
      "[('local_random_walk', {'probability': 0.75, 'scale': 1.0, 'distribution': 'gaussian'}, 'greedy'), ('spiral_dynamic', {'radius': 0.9, 'angle': 22.5, 'sigma': 0.1}, 'all')]\n"
     ]
    }
   ],
   "source": [
    "hyp = hh.Hyperheuristic(heuristic_space_list,problem=prob, parameters=parameters, file_label='CEC_PID_exp11')\n",
    "best_sol, best_perf, hist_curr, hist_best =hyp.solve()\n",
    "print(\"Performance: \", best_perf)\n",
    "print(best_sol)\n",
    "heur=[ heuristic_space_list[best_sol[0]] ]\n",
    "for i in range(1, len(best_sol)):\n",
    "    heur.append(heuristic_space_list[best_sol[1]])\n",
    "print(heur)"
   ]
  },
  {
   "cell_type": "code",
   "execution_count": 19,
   "id": "0b950db9",
   "metadata": {},
   "outputs": [
    {
     "name": "stdout",
     "output_type": "stream",
     "text": [
      "CEC_PID_exp12 :: Step:    0, Action: None        , Temp: 1.00e+02, Card:   2, Perf: 1.57e+00 [Initial]\n",
      "CEC_PID_exp12 :: Step:    1, Action: Mirror      , Temp: 1.00e+02, Card:   2, candPerf: 1.66e+00, currPerf: 1.57e+00, bestPerf: 1.57e+00 , [Delta: 8.98e-02, ArgProb: -3.50e-04, Prob: 1.00] A\n",
      "CEC_PID_exp12 :: Step:    2, Action: Restart     , Temp: 5.00e+01, Card:   2, candPerf: 4.90e+00, currPerf: 1.66e+00, bestPerf: 1.57e+00 , [Delta: 3.24e+00, ArgProb: -2.52e-02, Prob: 0.98] A\n",
      "CEC_PID_exp12 :: Step:    3, Action: Swap        , Temp: 3.33e+01, Card:   2, candPerf: 5.39e+00, currPerf: 4.90e+00, bestPerf: 1.57e+00 , [Delta: 4.87e-01, ArgProb: -5.69e-03, Prob: 0.99] A\n",
      "CEC_PID_exp12 :: Step:    4, Action: LocalShift  , Temp: 2.50e+01, Card:   2, candPerf: 5.48e+00, currPerf: 5.39e+00, bestPerf: 1.57e+00 , [Delta: 9.78e-02, ArgProb: -1.52e-03, Prob: 1.00] A\n",
      "\n",
      "BEST --> Perf: 1.5691726136555921, e-Sol: [19 26]\n",
      "Performance:  1.5691726136555921\n",
      "[19 26]\n",
      "[('local_random_walk', {'probability': 0.75, 'scale': 1.0, 'distribution': 'gaussian'}, 'greedy'), ('swarm_dynamic', {'factor': 0.7, 'self_conf': 2.54, 'swarm_conf': 2.56, 'version': 'inertial', 'distribution': 'uniform'}, 'all')]\n"
     ]
    }
   ],
   "source": [
    "hyp = hh.Hyperheuristic(heuristic_space_list,problem=prob, parameters=parameters, file_label='CEC_PID_exp12')\n",
    "best_sol, best_perf, hist_curr, hist_best =hyp.solve()\n",
    "print(\"Performance: \", best_perf)\n",
    "print(best_sol)\n",
    "heur=[ heuristic_space_list[best_sol[0]] ]\n",
    "for i in range(1, len(best_sol)):\n",
    "    heur.append(heuristic_space_list[best_sol[1]])\n",
    "print(heur)"
   ]
  },
  {
   "cell_type": "code",
   "execution_count": 20,
   "id": "4fdaf9c9",
   "metadata": {},
   "outputs": [
    {
     "name": "stdout",
     "output_type": "stream",
     "text": [
      "CEC_PID_exp13 :: Step:    0, Action: None        , Temp: 1.00e+02, Card:   2, Perf: 3.14e+00 [Initial]\n",
      "CEC_PID_exp13 :: Step:    1, Action: Shift       , Temp: 1.00e+02, Card:   2, candPerf: 2.23e+00, currPerf: 3.14e+00, bestPerf: 3.14e+00 , [Delta: -9.11e-01, ArgProb: 2.20e-03, Prob: 1.00] A+\n",
      "CEC_PID_exp13 :: Step:    2, Action: Add         , Temp: 5.00e+01, Card:   3, candPerf: 1.15e+00, currPerf: 2.23e+00, bestPerf: 2.23e+00 , [Delta: -1.08e+00, ArgProb: 5.20e-03, Prob: 1.00] A+\n",
      "CEC_PID_exp13 :: Step:    3, Action: Remove      , Temp: 3.33e+01, Card:   2, candPerf: 8.42e-01, currPerf: 1.15e+00, bestPerf: 1.15e+00 , [Delta: -3.13e-01, ArgProb: 2.26e-03, Prob: 1.00] A+\n",
      "CEC_PID_exp13 :: Step:    4, Action: LocalShift  , Temp: 2.50e+01, Card:   2, candPerf: 1.75e+00, currPerf: 8.42e-01, bestPerf: 8.42e-01 , [Delta: 9.11e-01, ArgProb: -8.79e-03, Prob: 0.99] A\n",
      "CEC_PID_exp13 :: Step:    5, Action: Roll        , Temp: 2.00e+01, Card:   2, candPerf: 1.82e+00, currPerf: 1.75e+00, bestPerf: 8.42e-01 , [Delta: 6.89e-02, ArgProb: -8.32e-04, Prob: 1.00] A\n",
      "CEC_PID_exp13 :: Step:    6, Action: Shift       , Temp: 1.67e+01, Card:   2, candPerf: 2.68e-01, currPerf: 1.82e+00, bestPerf: 8.42e-01 , [Delta: -1.55e+00, ArgProb: 2.25e-02, Prob: 1.00] A+\n",
      "CEC_PID_exp13 :: Step:    7, Action: Swap        , Temp: 1.43e+01, Card:   2, candPerf: 5.71e-01, currPerf: 2.68e-01, bestPerf: 2.68e-01 , [Delta: 3.03e-01, ArgProb: -5.12e-03, Prob: 0.99] A\n",
      "CEC_PID_exp13 :: Step:    8, Action: Add         , Temp: 1.25e+01, Card:   3, candPerf: 5.66e-01, currPerf: 5.71e-01, bestPerf: 2.68e-01 , [Delta: -5.25e-03, ArgProb: 1.01e-04, Prob: 1.00] A\n",
      "CEC_PID_exp13 :: Step:    9, Action: Roll        , Temp: 1.11e+01, Card:   3, candPerf: 6.15e-01, currPerf: 5.66e-01, bestPerf: 2.68e-01 , [Delta: 4.98e-02, ArgProb: -1.08e-03, Prob: 1.00] A\n",
      "CEC_PID_exp13 :: Step:   10, Action: Swap        , Temp: 1.00e+01, Card:   3, candPerf: 1.83e-01, currPerf: 6.15e-01, bestPerf: 2.68e-01 , [Delta: -4.32e-01, ArgProb: 1.04e-02, Prob: 1.00] A+\n",
      "\n",
      "BEST --> Perf: 0.1833011474756022, e-Sol: [29 25 18]\n",
      "Performance:  0.1833011474756022\n",
      "[29 25 18]\n",
      "[('swarm_dynamic', {'factor': 1.0, 'self_conf': 2.54, 'swarm_conf': 2.56, 'version': 'constriction', 'distribution': 'uniform'}, 'greedy'), ('spiral_dynamic', {'radius': 0.9, 'angle': 22.5, 'sigma': 0.1}, 'greedy'), ('spiral_dynamic', {'radius': 0.9, 'angle': 22.5, 'sigma': 0.1}, 'greedy')]\n"
     ]
    }
   ],
   "source": [
    "hyp = hh.Hyperheuristic(heuristic_space_list,problem=prob, parameters=parameters, file_label='CEC_PID_exp13')\n",
    "best_sol, best_perf, hist_curr, hist_best =hyp.solve()\n",
    "print(\"Performance: \", best_perf)\n",
    "print(best_sol)\n",
    "heur=[ heuristic_space_list[best_sol[0]] ]\n",
    "for i in range(1, len(best_sol)):\n",
    "    heur.append(heuristic_space_list[best_sol[1]])\n",
    "print(heur)"
   ]
  },
  {
   "cell_type": "code",
   "execution_count": 21,
   "id": "38ca3625",
   "metadata": {},
   "outputs": [
    {
     "name": "stdout",
     "output_type": "stream",
     "text": [
      "CEC_PID_exp14 :: Step:    0, Action: None        , Temp: 1.00e+02, Card:   2, Perf: 1.32e+00 [Initial]\n",
      "CEC_PID_exp14 :: Step:    1, Action: Roll        , Temp: 1.00e+02, Card:   2, candPerf: 1.68e+00, currPerf: 1.32e+00, bestPerf: 1.32e+00 , [Delta: 3.60e-01, ArgProb: -1.55e-03, Prob: 1.00] A\n",
      "CEC_PID_exp14 :: Step:    2, Action: RollMany    , Temp: 5.00e+01, Card:   2, candPerf: 1.40e+00, currPerf: 1.68e+00, bestPerf: 1.32e+00 , [Delta: -2.80e-01, ArgProb: 2.41e-03, Prob: 1.00] A\n",
      "CEC_PID_exp14 :: Step:    3, Action: RollMany    , Temp: 3.33e+01, Card:   2, candPerf: 1.37e+00, currPerf: 1.40e+00, bestPerf: 1.32e+00 , [Delta: -2.98e-02, ArgProb: 3.84e-04, Prob: 1.00] A\n",
      "CEC_PID_exp14 :: Step:    4, Action: Roll        , Temp: 2.50e+01, Card:   2, candPerf: 1.38e+00, currPerf: 1.37e+00, bestPerf: 1.32e+00 , [Delta: 5.39e-03, ArgProb: -9.29e-05, Prob: 1.00] A\n",
      "\n",
      "BEST --> Perf: 1.322711844406136, e-Sol: [7 7]\n",
      "Performance:  1.322711844406136\n",
      "[7 7]\n",
      "[('firefly_dynamic', {'distribution': 'uniform', 'alpha': 1.0, 'beta': 1.0, 'gamma': 100.0}, 'greedy'), ('firefly_dynamic', {'distribution': 'uniform', 'alpha': 1.0, 'beta': 1.0, 'gamma': 100.0}, 'greedy')]\n"
     ]
    }
   ],
   "source": [
    "hyp = hh.Hyperheuristic(heuristic_space_list,problem=prob, parameters=parameters, file_label='CEC_PID_exp14')\n",
    "best_sol, best_perf, hist_curr, hist_best =hyp.solve()\n",
    "print(\"Performance: \", best_perf)\n",
    "print(best_sol)\n",
    "heur=[ heuristic_space_list[best_sol[0]] ]\n",
    "for i in range(1, len(best_sol)):\n",
    "    heur.append(heuristic_space_list[best_sol[1]])\n",
    "print(heur)"
   ]
  },
  {
   "cell_type": "code",
   "execution_count": 22,
   "id": "8a164624",
   "metadata": {},
   "outputs": [
    {
     "name": "stdout",
     "output_type": "stream",
     "text": [
      "CEC_PID_exp15 :: Step:    0, Action: None        , Temp: 1.00e+02, Card:   2, Perf: 5.03e+00 [Initial]\n",
      "CEC_PID_exp15 :: Step:    1, Action: RollMany    , Temp: 1.00e+02, Card:   2, candPerf: 2.51e+00, currPerf: 5.03e+00, bestPerf: 5.03e+00 , [Delta: -2.51e+00, ArgProb: 4.17e-03, Prob: 1.00] A+\n",
      "CEC_PID_exp15 :: Step:    2, Action: LocalShift  , Temp: 5.00e+01, Card:   2, candPerf: 2.53e+00, currPerf: 2.51e+00, bestPerf: 2.51e+00 , [Delta: 1.21e-02, ArgProb: -4.01e-05, Prob: 1.00] A\n",
      "CEC_PID_exp15 :: Step:    3, Action: Swap        , Temp: 3.33e+01, Card:   2, candPerf: 2.30e+00, currPerf: 2.53e+00, bestPerf: 2.51e+00 , [Delta: -2.30e-01, ArgProb: 1.14e-03, Prob: 1.00] A+\n",
      "CEC_PID_exp15 :: Step:    4, Action: Restart     , Temp: 2.50e+01, Card:   2, candPerf: 1.89e+00, currPerf: 2.30e+00, bestPerf: 2.30e+00 , [Delta: -4.09e-01, ArgProb: 2.71e-03, Prob: 1.00] A+\n",
      "CEC_PID_exp15 :: Step:    5, Action: Shift       , Temp: 2.00e+01, Card:   2, candPerf: 8.59e+00, currPerf: 1.89e+00, bestPerf: 1.89e+00 , [Delta: 6.71e+00, ArgProb: -5.56e-02, Prob: 0.95] A\n",
      "CEC_PID_exp15 :: Step:    6, Action: Roll        , Temp: 1.67e+01, Card:   2, candPerf: 7.78e+00, currPerf: 8.59e+00, bestPerf: 1.89e+00 , [Delta: -8.12e-01, ArgProb: 8.09e-03, Prob: 1.00] A\n",
      "CEC_PID_exp15 :: Step:    7, Action: Roll        , Temp: 1.43e+01, Card:   2, candPerf: 8.38e+00, currPerf: 7.78e+00, bestPerf: 1.89e+00 , [Delta: 5.95e-01, ArgProb: -6.91e-03, Prob: 0.99] A\n",
      "CEC_PID_exp15 :: Step:    8, Action: Swap        , Temp: 1.25e+01, Card:   2, candPerf: 9.74e+00, currPerf: 8.38e+00, bestPerf: 1.89e+00 , [Delta: 1.36e+00, ArgProb: -1.81e-02, Prob: 0.98] A\n",
      "\n",
      "BEST --> Perf: 1.8873605506488327, e-Sol: [24  2]\n",
      "Performance:  1.8873605506488327\n",
      "[24  2]\n",
      "[('spiral_dynamic', {'radius': 0.9, 'angle': 22.5, 'sigma': 0.1}, 'all'), ('differential_mutation', {'expression': 'current-to-best', 'num_rands': 1, 'factor': 1.0}, 'all')]\n"
     ]
    }
   ],
   "source": [
    "hyp = hh.Hyperheuristic(heuristic_space_list,problem=prob, parameters=parameters, file_label='CEC_PID_exp15')\n",
    "best_sol, best_perf, hist_curr, hist_best =hyp.solve()\n",
    "print(\"Performance: \", best_perf)\n",
    "print(best_sol)\n",
    "heur=[ heuristic_space_list[best_sol[0]] ]\n",
    "for i in range(1, len(best_sol)):\n",
    "    heur.append(heuristic_space_list[best_sol[1]])\n",
    "print(heur)"
   ]
  },
  {
   "cell_type": "code",
   "execution_count": 23,
   "id": "4b73472d",
   "metadata": {},
   "outputs": [
    {
     "name": "stdout",
     "output_type": "stream",
     "text": [
      "CEC_PID_exp16 :: Step:    0, Action: None        , Temp: 1.00e+02, Card:   2, Perf: 8.85e+00 [Initial]\n",
      "CEC_PID_exp16 :: Step:    1, Action: RollMany    , Temp: 1.00e+02, Card:   2, candPerf: 6.27e+00, currPerf: 8.85e+00, bestPerf: 8.85e+00 , [Delta: -2.58e+00, ArgProb: 2.62e-03, Prob: 1.00] A+\n",
      "CEC_PID_exp16 :: Step:    2, Action: Swap        , Temp: 5.00e+01, Card:   2, candPerf: 2.66e+00, currPerf: 6.27e+00, bestPerf: 6.27e+00 , [Delta: -3.61e+00, ArgProb: 7.33e-03, Prob: 1.00] A+\n",
      "CEC_PID_exp16 :: Step:    3, Action: Roll        , Temp: 3.33e+01, Card:   2, candPerf: 2.53e+00, currPerf: 2.66e+00, bestPerf: 2.66e+00 , [Delta: -1.23e-01, ArgProb: 3.73e-04, Prob: 1.00] A+\n",
      "CEC_PID_exp16 :: Step:    4, Action: Restart     , Temp: 2.50e+01, Card:   2, candPerf: 1.79e+00, currPerf: 2.53e+00, bestPerf: 2.53e+00 , [Delta: -7.43e-01, ArgProb: 3.02e-03, Prob: 1.00] A+\n",
      "CEC_PID_exp16 :: Step:    5, Action: Shift       , Temp: 2.00e+01, Card:   2, candPerf: 1.11e+00, currPerf: 1.79e+00, bestPerf: 1.79e+00 , [Delta: -6.79e-01, ArgProb: 3.45e-03, Prob: 1.00] A+\n",
      "CEC_PID_exp16 :: Step:    6, Action: RollMany    , Temp: 1.67e+01, Card:   2, candPerf: 7.19e-01, currPerf: 1.11e+00, bestPerf: 1.11e+00 , [Delta: -3.93e-01, ArgProb: 2.39e-03, Prob: 1.00] A+\n",
      "CEC_PID_exp16 :: Step:    7, Action: Restart     , Temp: 1.43e+01, Card:   2, candPerf: 4.28e+00, currPerf: 7.19e-01, bestPerf: 7.19e-01 , [Delta: 3.56e+00, ArgProb: -2.53e-02, Prob: 0.98] A\n",
      "CEC_PID_exp16 :: Step:    8, Action: RollMany    , Temp: 1.25e+01, Card:   2, candPerf: 2.75e+00, currPerf: 4.28e+00, bestPerf: 7.19e-01 , [Delta: -1.53e+00, ArgProb: 1.24e-02, Prob: 1.00] A\n",
      "CEC_PID_exp16 :: Step:    9, Action: Restart     , Temp: 1.11e+01, Card:   2, candPerf: 4.77e+00, currPerf: 2.75e+00, bestPerf: 7.19e-01 , [Delta: 2.02e+00, ArgProb: -1.85e-02, Prob: 0.98] A\n",
      "CEC_PID_exp16 :: Step:   10, Action: LocalShift  , Temp: 1.00e+01, Card:   2, candPerf: 1.31e+01, currPerf: 4.77e+00, bestPerf: 7.19e-01 , [Delta: 8.29e+00, ArgProb: -8.42e-02, Prob: 0.92] A\n",
      "\n",
      "BEST --> Perf: 0.7186230557949245, e-Sol: [29 21]\n",
      "Performance:  0.7186230557949245\n",
      "[29 21]\n",
      "[('swarm_dynamic', {'factor': 1.0, 'self_conf': 2.54, 'swarm_conf': 2.56, 'version': 'constriction', 'distribution': 'uniform'}, 'greedy'), ('random_sample', {}, 'greedy')]\n"
     ]
    }
   ],
   "source": [
    "hyp = hh.Hyperheuristic(heuristic_space_list,problem=prob, parameters=parameters, file_label='CEC_PID_exp16')\n",
    "best_sol, best_perf, hist_curr, hist_best =hyp.solve()\n",
    "print(\"Performance: \", best_perf)\n",
    "print(best_sol)\n",
    "heur=[ heuristic_space_list[best_sol[0]] ]\n",
    "for i in range(1, len(best_sol)):\n",
    "    heur.append(heuristic_space_list[best_sol[1]])\n",
    "print(heur)"
   ]
  },
  {
   "cell_type": "code",
   "execution_count": 24,
   "id": "0df30e4e",
   "metadata": {},
   "outputs": [
    {
     "name": "stdout",
     "output_type": "stream",
     "text": [
      "CEC_PID_exp17 :: Step:    0, Action: None        , Temp: 1.00e+02, Card:   2, Perf: 4.06e+00 [Initial]\n",
      "CEC_PID_exp17 :: Step:    1, Action: Add         , Temp: 1.00e+02, Card:   3, candPerf: 2.46e+00, currPerf: 4.06e+00, bestPerf: 4.06e+00 , [Delta: -1.60e+00, ArgProb: 3.17e-03, Prob: 1.00] A+\n",
      "CEC_PID_exp17 :: Step:    2, Action: Shift       , Temp: 5.00e+01, Card:   3, candPerf: 3.17e+00, currPerf: 2.46e+00, bestPerf: 2.46e+00 , [Delta: 7.12e-01, ArgProb: -2.82e-03, Prob: 1.00] A\n",
      "CEC_PID_exp17 :: Step:    3, Action: Swap        , Temp: 3.33e+01, Card:   3, candPerf: 3.09e+00, currPerf: 3.17e+00, bestPerf: 2.46e+00 , [Delta: -8.11e-02, ArgProb: 4.81e-04, Prob: 1.00] A\n",
      "CEC_PID_exp17 :: Step:    4, Action: Roll        , Temp: 2.50e+01, Card:   3, candPerf: 2.84e+00, currPerf: 3.09e+00, bestPerf: 2.46e+00 , [Delta: -2.50e-01, ArgProb: 1.98e-03, Prob: 1.00] A\n",
      "CEC_PID_exp17 :: Step:    5, Action: Mirror      , Temp: 2.00e+01, Card:   3, candPerf: 2.65e+00, currPerf: 2.84e+00, bestPerf: 2.46e+00 , [Delta: -1.87e-01, ArgProb: 1.85e-03, Prob: 1.00] A\n",
      "\n",
      "BEST --> Perf: 2.455508625011313, e-Sol: [12  4  5]\n",
      "Performance:  2.455508625011313\n",
      "[12  4  5]\n",
      "[('genetic_mutation', {'scale': 1.0, 'elite_rate': 0.1, 'mutation_rate': 0.25, 'distribution': 'uniform'}, 'all'), ('differential_mutation', {'expression': 'rand-to-best-and-current', 'num_rands': 1, 'factor': 1.0}, 'all'), ('differential_mutation', {'expression': 'rand-to-best-and-current', 'num_rands': 1, 'factor': 1.0}, 'all')]\n"
     ]
    }
   ],
   "source": [
    "hyp = hh.Hyperheuristic(heuristic_space_list,problem=prob, parameters=parameters, file_label='CEC_PID_exp17')\n",
    "best_sol, best_perf, hist_curr, hist_best =hyp.solve()\n",
    "print(\"Performance: \", best_perf)\n",
    "print(best_sol)\n",
    "heur=[ heuristic_space_list[best_sol[0]] ]\n",
    "for i in range(1, len(best_sol)):\n",
    "    heur.append(heuristic_space_list[best_sol[1]])\n",
    "print(heur)"
   ]
  },
  {
   "cell_type": "code",
   "execution_count": 25,
   "id": "392dee02",
   "metadata": {},
   "outputs": [
    {
     "name": "stdout",
     "output_type": "stream",
     "text": [
      "CEC_PID_exp18 :: Step:    0, Action: None        , Temp: 1.00e+02, Card:   2, Perf: 2.05e+00 [Initial]\n",
      "CEC_PID_exp18 :: Step:    1, Action: Roll        , Temp: 1.00e+02, Card:   2, candPerf: 2.06e+00, currPerf: 2.05e+00, bestPerf: 2.05e+00 , [Delta: 1.22e-02, ArgProb: -3.99e-05, Prob: 1.00] A\n",
      "CEC_PID_exp18 :: Step:    2, Action: Add         , Temp: 5.00e+01, Card:   3, candPerf: 1.69e+00, currPerf: 2.06e+00, bestPerf: 2.05e+00 , [Delta: -3.75e-01, ArgProb: 2.46e-03, Prob: 1.00] A+\n",
      "CEC_PID_exp18 :: Step:    3, Action: Roll        , Temp: 3.33e+01, Card:   3, candPerf: 1.62e+00, currPerf: 1.69e+00, bestPerf: 1.69e+00 , [Delta: -6.45e-02, ArgProb: 6.35e-04, Prob: 1.00] A+\n",
      "CEC_PID_exp18 :: Step:    4, Action: Shift       , Temp: 2.50e+01, Card:   3, candPerf: 1.92e+00, currPerf: 1.62e+00, bestPerf: 1.62e+00 , [Delta: 2.99e-01, ArgProb: -3.92e-03, Prob: 1.00] A\n",
      "CEC_PID_exp18 :: Step:    5, Action: Roll        , Temp: 2.00e+01, Card:   3, candPerf: 2.19e+00, currPerf: 1.92e+00, bestPerf: 1.62e+00 , [Delta: 2.71e-01, ArgProb: -4.44e-03, Prob: 1.00] A\n",
      "CEC_PID_exp18 :: Step:    6, Action: Remove      , Temp: 1.67e+01, Card:   2, candPerf: 2.55e+00, currPerf: 2.19e+00, bestPerf: 1.62e+00 , [Delta: 3.58e-01, ArgProb: -7.05e-03, Prob: 0.99] A\n",
      "CEC_PID_exp18 :: Step:    7, Action: Shift       , Temp: 1.43e+01, Card:   2, candPerf: 1.25e+00, currPerf: 2.55e+00, bestPerf: 1.62e+00 , [Delta: -1.30e+00, ArgProb: 2.99e-02, Prob: 1.00] A+\n",
      "CEC_PID_exp18 :: Step:    8, Action: RollMany    , Temp: 1.25e+01, Card:   2, candPerf: 1.53e+00, currPerf: 1.25e+00, bestPerf: 1.25e+00 , [Delta: 2.77e-01, ArgProb: -7.26e-03, Prob: 0.99] A\n",
      "CEC_PID_exp18 :: Step:    9, Action: RollMany    , Temp: 1.11e+01, Card:   2, candPerf: 1.73e+00, currPerf: 1.53e+00, bestPerf: 1.25e+00 , [Delta: 2.02e-01, ArgProb: -5.95e-03, Prob: 0.99] A\n",
      "CEC_PID_exp18 :: Step:   10, Action: Mirror      , Temp: 1.00e+01, Card:   2, candPerf: 1.43e+00, currPerf: 1.73e+00, bestPerf: 1.25e+00 , [Delta: -2.96e-01, ArgProb: 9.70e-03, Prob: 1.00] A\n",
      "\n",
      "BEST --> Perf: 1.2507176985913575, e-Sol: [21 19]\n",
      "Performance:  1.2507176985913575\n",
      "[21 19]\n",
      "[('random_sample', {}, 'greedy'), ('local_random_walk', {'probability': 0.75, 'scale': 1.0, 'distribution': 'gaussian'}, 'greedy')]\n"
     ]
    }
   ],
   "source": [
    "hyp = hh.Hyperheuristic(heuristic_space_list,problem=prob, parameters=parameters, file_label='CEC_PID_exp18')\n",
    "best_sol, best_perf, hist_curr, hist_best =hyp.solve()\n",
    "print(\"Performance: \", best_perf)\n",
    "print(best_sol)\n",
    "heur=[ heuristic_space_list[best_sol[0]] ]\n",
    "for i in range(1, len(best_sol)):\n",
    "    heur.append(heuristic_space_list[best_sol[1]])\n",
    "print(heur)"
   ]
  },
  {
   "cell_type": "code",
   "execution_count": 26,
   "id": "f3d9bb8e",
   "metadata": {},
   "outputs": [
    {
     "name": "stdout",
     "output_type": "stream",
     "text": [
      "CEC_PID_exp19 :: Step:    0, Action: None        , Temp: 1.00e+02, Card:   2, Perf: 5.66e-01 [Initial]\n",
      "CEC_PID_exp19 :: Step:    1, Action: Add         , Temp: 1.00e+02, Card:   3, candPerf: 1.53e-01, currPerf: 5.66e-01, bestPerf: 5.66e-01 , [Delta: -4.13e-01, ArgProb: 2.64e-03, Prob: 1.00] A+\n",
      "CEC_PID_exp19 :: Step:    2, Action: Mirror      , Temp: 5.00e+01, Card:   3, candPerf: 1.49e-01, currPerf: 1.53e-01, bestPerf: 1.53e-01 , [Delta: -4.37e-03, ArgProb: 5.58e-05, Prob: 1.00] A+\n",
      "CEC_PID_exp19 :: Step:    3, Action: Shift       , Temp: 3.33e+01, Card:   3, candPerf: 1.11e+00, currPerf: 1.49e-01, bestPerf: 1.49e-01 , [Delta: 9.65e-01, ArgProb: -1.85e-02, Prob: 0.98] A\n",
      "CEC_PID_exp19 :: Step:    4, Action: RollMany    , Temp: 2.50e+01, Card:   3, candPerf: 1.05e+00, currPerf: 1.11e+00, bestPerf: 1.49e-01 , [Delta: -6.72e-02, ArgProb: 1.72e-03, Prob: 1.00] A\n",
      "CEC_PID_exp19 :: Step:    5, Action: Swap        , Temp: 2.00e+01, Card:   3, candPerf: 1.33e+00, currPerf: 1.05e+00, bestPerf: 1.49e-01 , [Delta: 2.87e-01, ArgProb: -9.16e-03, Prob: 0.99] A\n",
      "CEC_PID_exp19 :: Step:    6, Action: Swap        , Temp: 1.67e+01, Card:   3, candPerf: 1.16e+00, currPerf: 1.33e+00, bestPerf: 1.49e-01 , [Delta: -1.75e-01, ArgProb: 6.70e-03, Prob: 1.00] A\n",
      "\n",
      "BEST --> Perf: 0.1488574199653377, e-Sol: [15 29  3]\n",
      "Performance:  0.1488574199653377\n",
      "[15 29  3]\n",
      "[('gravitational_search', {'gravity': 1.0, 'alpha': 0.02}, 'greedy'), ('swarm_dynamic', {'factor': 1.0, 'self_conf': 2.54, 'swarm_conf': 2.56, 'version': 'constriction', 'distribution': 'uniform'}, 'greedy'), ('swarm_dynamic', {'factor': 1.0, 'self_conf': 2.54, 'swarm_conf': 2.56, 'version': 'constriction', 'distribution': 'uniform'}, 'greedy')]\n"
     ]
    }
   ],
   "source": [
    "hyp = hh.Hyperheuristic(heuristic_space_list,problem=prob, parameters=parameters, file_label='CEC_PID_exp19')\n",
    "best_sol, best_perf, hist_curr, hist_best =hyp.solve()\n",
    "print(\"Performance: \", best_perf)\n",
    "print(best_sol)\n",
    "heur=[ heuristic_space_list[best_sol[0]] ]\n",
    "for i in range(1, len(best_sol)):\n",
    "    heur.append(heuristic_space_list[best_sol[1]])\n",
    "print(heur)"
   ]
  },
  {
   "cell_type": "code",
   "execution_count": 27,
   "id": "01340ff2",
   "metadata": {},
   "outputs": [
    {
     "name": "stdout",
     "output_type": "stream",
     "text": [
      "CEC_PID_exp20 :: Step:    0, Action: None        , Temp: 1.00e+02, Card:   2, Perf: 7.10e+00 [Initial]\n",
      "CEC_PID_exp20 :: Step:    1, Action: Restart     , Temp: 1.00e+02, Card:   2, candPerf: 8.63e-01, currPerf: 7.10e+00, bestPerf: 7.10e+00 , [Delta: -6.23e+00, ArgProb: 7.70e-03, Prob: 1.00] A+\n",
      "CEC_PID_exp20 :: Step:    2, Action: LocalShift  , Temp: 5.00e+01, Card:   2, candPerf: 6.08e+01, currPerf: 8.63e-01, bestPerf: 8.63e-01 , [Delta: 6.00e+01, ArgProb: -1.48e-01, Prob: 0.86] A\n",
      "CEC_PID_exp20 :: Step:    3, Action: Shift       , Temp: 3.33e+01, Card:   2, candPerf: 5.47e+01, currPerf: 6.08e+01, bestPerf: 8.63e-01 , [Delta: -6.17e+00, ArgProb: 2.29e-02, Prob: 1.00] A\n",
      "CEC_PID_exp20 :: Step:    4, Action: RollMany    , Temp: 2.50e+01, Card:   2, candPerf: 5.11e+01, currPerf: 5.47e+01, bestPerf: 8.63e-01 , [Delta: -3.57e+00, ArgProb: 1.76e-02, Prob: 1.00] A\n",
      "CEC_PID_exp20 :: Step:    5, Action: Restart     , Temp: 2.00e+01, Card:   2, candPerf: 2.91e+01, currPerf: 5.11e+01, bestPerf: 8.63e-01 , [Delta: -2.20e+01, ArgProb: 1.36e-01, Prob: 1.00] A\n",
      "\n",
      "BEST --> Perf: 0.8627501930002234, e-Sol: [29  1]\n",
      "Performance:  0.8627501930002234\n",
      "[29  1]\n",
      "[('swarm_dynamic', {'factor': 1.0, 'self_conf': 2.54, 'swarm_conf': 2.56, 'version': 'constriction', 'distribution': 'uniform'}, 'greedy'), ('central_force_dynamic', {'gravity': 0.001, 'alpha': 0.01, 'beta': 1.5, 'dt': 1.0}, 'greedy')]\n"
     ]
    }
   ],
   "source": [
    "hyp = hh.Hyperheuristic(heuristic_space_list,problem=prob, parameters=parameters, file_label='CEC_PID_exp20')\n",
    "best_sol, best_perf, hist_curr, hist_best =hyp.solve()\n",
    "print(\"Performance: \", best_perf)\n",
    "print(best_sol)\n",
    "heur=[ heuristic_space_list[best_sol[0]] ]\n",
    "for i in range(1, len(best_sol)):\n",
    "    heur.append(heuristic_space_list[best_sol[1]])\n",
    "print(heur)"
   ]
  },
  {
   "cell_type": "code",
   "execution_count": 28,
   "id": "104e645b",
   "metadata": {},
   "outputs": [
    {
     "name": "stdout",
     "output_type": "stream",
     "text": [
      "CEC_PID_exp51 :: Step:    0, Action: None        , Temp: 1.00e+02, Card:   2, Perf: 5.15e+00 [Initial]\n",
      "CEC_PID_exp51 :: Step:    1, Action: Add         , Temp: 1.00e+02, Card:   3, candPerf: 7.83e+00, currPerf: 5.15e+00, bestPerf: 5.15e+00 , [Delta: 2.68e+00, ArgProb: -4.35e-03, Prob: 1.00] A\n",
      "CEC_PID_exp51 :: Step:    2, Action: Restart     , Temp: 5.00e+01, Card:   3, candPerf: 1.33e+00, currPerf: 7.83e+00, bestPerf: 5.15e+00 , [Delta: -6.50e+00, ArgProb: 2.11e-02, Prob: 1.00] A+\n",
      "CEC_PID_exp51 :: Step:    3, Action: Roll        , Temp: 3.33e+01, Card:   3, candPerf: 1.13e+00, currPerf: 1.33e+00, bestPerf: 1.33e+00 , [Delta: -2.01e-01, ArgProb: 9.82e-04, Prob: 1.00] A+\n",
      "CEC_PID_exp51 :: Step:    4, Action: LocalShift  , Temp: 2.50e+01, Card:   3, candPerf: 1.20e+00, currPerf: 1.13e+00, bestPerf: 1.13e+00 , [Delta: 7.36e-02, ArgProb: -4.78e-04, Prob: 1.00] A\n",
      "CEC_PID_exp51 :: Step:    5, Action: LocalShift  , Temp: 2.00e+01, Card:   3, candPerf: 8.82e-01, currPerf: 1.20e+00, bestPerf: 1.13e+00 , [Delta: -3.17e-01, ArgProb: 2.58e-03, Prob: 1.00] A+\n",
      "CEC_PID_exp51 :: Step:    6, Action: Mirror      , Temp: 1.67e+01, Card:   3, candPerf: 1.13e+00, currPerf: 8.82e-01, bestPerf: 8.82e-01 , [Delta: 2.45e-01, ArgProb: -2.39e-03, Prob: 1.00] A\n",
      "CEC_PID_exp51 :: Step:    7, Action: Restart     , Temp: 1.43e+01, Card:   3, candPerf: 1.83e+00, currPerf: 1.13e+00, bestPerf: 8.82e-01 , [Delta: 7.07e-01, ArgProb: -8.05e-03, Prob: 0.99] A\n",
      "CEC_PID_exp51 :: Step:    8, Action: Restart     , Temp: 1.25e+01, Card:   3, candPerf: 1.32e+00, currPerf: 1.83e+00, bestPerf: 8.82e-01 , [Delta: -5.16e-01, ArgProb: 6.71e-03, Prob: 1.00] A\n",
      "CEC_PID_exp51 :: Step:    9, Action: Remove      , Temp: 1.11e+01, Card:   2, candPerf: 1.98e+00, currPerf: 1.32e+00, bestPerf: 8.82e-01 , [Delta: 6.61e-01, ArgProb: -9.68e-03, Prob: 0.99] A\n",
      "\n",
      "BEST --> Perf: 0.882051819182772, e-Sol: [17 26 24]\n",
      "Performance:  0.882051819182772\n",
      "[17 26 24]\n",
      "[('random_flight', {'scale': 1.0, 'distribution': 'levy', 'beta': 1.5}, 'greedy'), ('swarm_dynamic', {'factor': 0.7, 'self_conf': 2.54, 'swarm_conf': 2.56, 'version': 'inertial', 'distribution': 'uniform'}, 'all'), ('swarm_dynamic', {'factor': 0.7, 'self_conf': 2.54, 'swarm_conf': 2.56, 'version': 'inertial', 'distribution': 'uniform'}, 'all')]\n"
     ]
    }
   ],
   "source": [
    "hyp = hh.Hyperheuristic(heuristic_space_list,problem=prob, parameters=parameters, file_label='CEC_PID_exp51')\n",
    "best_sol, best_perf, hist_curr, hist_best =hyp.solve()\n",
    "print(\"Performance: \", best_perf)\n",
    "print(best_sol)\n",
    "heur=[ heuristic_space_list[best_sol[0]] ]\n",
    "for i in range(1, len(best_sol)):\n",
    "    heur.append(heuristic_space_list[best_sol[1]])\n",
    "print(heur)"
   ]
  },
  {
   "cell_type": "code",
   "execution_count": 29,
   "id": "26d1bfcf",
   "metadata": {},
   "outputs": [
    {
     "name": "stdout",
     "output_type": "stream",
     "text": [
      "CEC_PID_exp52 :: Step:    0, Action: None        , Temp: 1.00e+02, Card:   2, Perf: 1.58e+01 [Initial]\n",
      "CEC_PID_exp52 :: Step:    1, Action: Roll        , Temp: 1.00e+02, Card:   2, candPerf: 4.44e+01, currPerf: 1.58e+01, bestPerf: 1.58e+01 , [Delta: 2.86e+01, ArgProb: -1.71e-02, Prob: 0.98] A\n",
      "CEC_PID_exp52 :: Step:    2, Action: Restart     , Temp: 5.00e+01, Card:   2, candPerf: 1.57e+00, currPerf: 4.44e+01, bestPerf: 1.58e+01 , [Delta: -4.29e+01, ArgProb: 5.11e-02, Prob: 1.00] A+\n",
      "CEC_PID_exp52 :: Step:    3, Action: Shift       , Temp: 3.33e+01, Card:   2, candPerf: 8.83e-01, currPerf: 1.57e+00, bestPerf: 1.57e+00 , [Delta: -6.84e-01, ArgProb: 1.22e-03, Prob: 1.00] A+\n",
      "CEC_PID_exp52 :: Step:    4, Action: Mirror      , Temp: 2.50e+01, Card:   2, candPerf: 1.04e+00, currPerf: 8.83e-01, bestPerf: 8.83e-01 , [Delta: 1.55e-01, ArgProb: -3.69e-04, Prob: 1.00] A\n",
      "CEC_PID_exp52 :: Step:    5, Action: LocalShift  , Temp: 2.00e+01, Card:   2, candPerf: 2.13e+00, currPerf: 1.04e+00, bestPerf: 8.83e-01 , [Delta: 1.10e+00, ArgProb: -3.26e-03, Prob: 1.00] A\n",
      "CEC_PID_exp52 :: Step:    6, Action: Restart     , Temp: 1.67e+01, Card:   2, candPerf: 1.96e+01, currPerf: 2.13e+00, bestPerf: 8.83e-01 , [Delta: 1.75e+01, ArgProb: -6.26e-02, Prob: 0.94] A\n",
      "CEC_PID_exp52 :: Step:    7, Action: Shift       , Temp: 1.43e+01, Card:   2, candPerf: 3.45e+01, currPerf: 1.96e+01, bestPerf: 8.83e-01 , [Delta: 1.49e+01, ArgProb: -6.21e-02, Prob: 0.94] A\n",
      "\n",
      "BEST --> Perf: 0.882866387090729, e-Sol: [17  3]\n",
      "Performance:  0.882866387090729\n",
      "[17  3]\n",
      "[('random_flight', {'scale': 1.0, 'distribution': 'levy', 'beta': 1.5}, 'greedy'), ('differential_mutation', {'expression': 'current-to-best', 'num_rands': 1, 'factor': 1.0}, 'greedy')]\n"
     ]
    }
   ],
   "source": [
    "hyp = hh.Hyperheuristic(heuristic_space_list,problem=prob, parameters=parameters, file_label='CEC_PID_exp52')\n",
    "best_sol, best_perf, hist_curr, hist_best =hyp.solve()\n",
    "print(\"Performance: \", best_perf)\n",
    "print(best_sol)\n",
    "heur=[ heuristic_space_list[best_sol[0]] ]\n",
    "for i in range(1, len(best_sol)):\n",
    "    heur.append(heuristic_space_list[best_sol[1]])\n",
    "print(heur)"
   ]
  },
  {
   "cell_type": "code",
   "execution_count": 30,
   "id": "e9070782",
   "metadata": {},
   "outputs": [
    {
     "name": "stdout",
     "output_type": "stream",
     "text": [
      "CEC_PID_exp53 :: Step:    0, Action: None        , Temp: 1.00e+02, Card:   2, Perf: 3.89e+00 [Initial]\n",
      "CEC_PID_exp53 :: Step:    1, Action: Swap        , Temp: 1.00e+02, Card:   2, candPerf: 4.06e+00, currPerf: 3.89e+00, bestPerf: 3.89e+00 , [Delta: 1.73e-01, ArgProb: -3.55e-04, Prob: 1.00] A\n",
      "CEC_PID_exp53 :: Step:    2, Action: Roll        , Temp: 5.00e+01, Card:   2, candPerf: 3.68e+00, currPerf: 4.06e+00, bestPerf: 3.89e+00 , [Delta: -3.78e-01, ArgProb: 1.55e-03, Prob: 1.00] A+\n",
      "CEC_PID_exp53 :: Step:    3, Action: Roll        , Temp: 3.33e+01, Card:   2, candPerf: 4.70e+00, currPerf: 3.68e+00, bestPerf: 3.68e+00 , [Delta: 1.02e+00, ArgProb: -6.26e-03, Prob: 0.99] A\n",
      "CEC_PID_exp53 :: Step:    4, Action: RollMany    , Temp: 2.50e+01, Card:   2, candPerf: 3.95e+00, currPerf: 4.70e+00, bestPerf: 3.68e+00 , [Delta: -7.54e-01, ArgProb: 6.17e-03, Prob: 1.00] A\n",
      "CEC_PID_exp53 :: Step:    5, Action: Roll        , Temp: 2.00e+01, Card:   2, candPerf: 3.74e+00, currPerf: 3.95e+00, bestPerf: 3.68e+00 , [Delta: -2.06e-01, ArgProb: 2.11e-03, Prob: 1.00] A\n",
      "CEC_PID_exp53 :: Step:    6, Action: Swap        , Temp: 1.67e+01, Card:   2, candPerf: 3.63e+00, currPerf: 3.74e+00, bestPerf: 3.68e+00 , [Delta: -1.13e-01, ArgProb: 1.38e-03, Prob: 1.00] A+\n",
      "CEC_PID_exp53 :: Step:    7, Action: Mirror      , Temp: 1.43e+01, Card:   2, candPerf: 4.58e+00, currPerf: 3.63e+00, bestPerf: 3.63e+00 , [Delta: 9.45e-01, ArgProb: -1.35e-02, Prob: 0.99] A\n",
      "CEC_PID_exp53 :: Step:    8, Action: Roll        , Temp: 1.25e+01, Card:   2, candPerf: 4.47e+00, currPerf: 4.58e+00, bestPerf: 3.63e+00 , [Delta: -1.08e-01, ArgProb: 1.77e-03, Prob: 1.00] A\n",
      "CEC_PID_exp53 :: Step:    9, Action: Mirror      , Temp: 1.11e+01, Card:   2, candPerf: 3.36e+00, currPerf: 4.47e+00, bestPerf: 3.63e+00 , [Delta: -1.11e+00, ArgProb: 2.04e-02, Prob: 1.00] A+\n",
      "CEC_PID_exp53 :: Step:   10, Action: LocalShift  , Temp: 1.00e+01, Card:   2, candPerf: 2.92e+00, currPerf: 3.36e+00, bestPerf: 3.36e+00 , [Delta: -4.37e-01, ArgProb: 8.94e-03, Prob: 1.00] A+\n",
      "\n",
      "BEST --> Perf: 2.924473434433823, e-Sol: [13  4]\n",
      "Performance:  2.924473434433823\n",
      "[13  4]\n",
      "[('genetic_mutation', {'scale': 1.0, 'elite_rate': 0.1, 'mutation_rate': 0.25, 'distribution': 'uniform'}, 'greedy'), ('differential_mutation', {'expression': 'rand-to-best-and-current', 'num_rands': 1, 'factor': 1.0}, 'all')]\n"
     ]
    }
   ],
   "source": [
    "hyp = hh.Hyperheuristic(heuristic_space_list,problem=prob, parameters=parameters, file_label='CEC_PID_exp53')\n",
    "best_sol, best_perf, hist_curr, hist_best =hyp.solve()\n",
    "print(\"Performance: \", best_perf)\n",
    "print(best_sol)\n",
    "heur=[ heuristic_space_list[best_sol[0]] ]\n",
    "for i in range(1, len(best_sol)):\n",
    "    heur.append(heuristic_space_list[best_sol[1]])\n",
    "print(heur)"
   ]
  },
  {
   "cell_type": "code",
   "execution_count": 31,
   "id": "54ca2ed8",
   "metadata": {},
   "outputs": [
    {
     "name": "stdout",
     "output_type": "stream",
     "text": [
      "CEC_PID_exp54 :: Step:    0, Action: None        , Temp: 1.00e+02, Card:   2, Perf: 2.20e+00 [Initial]\n",
      "CEC_PID_exp54 :: Step:    1, Action: Swap        , Temp: 1.00e+02, Card:   2, candPerf: 1.73e+00, currPerf: 2.20e+00, bestPerf: 2.20e+00 , [Delta: -4.70e-01, ArgProb: 1.47e-03, Prob: 1.00] A+\n",
      "CEC_PID_exp54 :: Step:    2, Action: Shift       , Temp: 5.00e+01, Card:   2, candPerf: 1.54e+00, currPerf: 1.73e+00, bestPerf: 1.73e+00 , [Delta: -1.89e-01, ArgProb: 1.18e-03, Prob: 1.00] A+\n",
      "CEC_PID_exp54 :: Step:    3, Action: Roll        , Temp: 3.33e+01, Card:   2, candPerf: 1.36e+00, currPerf: 1.54e+00, bestPerf: 1.54e+00 , [Delta: -1.73e-01, ArgProb: 1.63e-03, Prob: 1.00] A+\n",
      "CEC_PID_exp54 :: Step:    4, Action: Restart     , Temp: 2.50e+01, Card:   2, candPerf: 2.60e+01, currPerf: 1.36e+00, bestPerf: 1.36e+00 , [Delta: 2.47e+01, ArgProb: -3.08e-01, Prob: 0.73] \n",
      "CEC_PID_exp54 :: Step:    5, Action: Mirror      , Temp: 2.00e+01, Card:   2, candPerf: 1.57e+00, currPerf: 1.36e+00, bestPerf: 1.36e+00 , [Delta: 2.05e-01, ArgProb: -3.20e-03, Prob: 1.00] A\n",
      "CEC_PID_exp54 :: Step:    6, Action: Shift       , Temp: 1.67e+01, Card:   2, candPerf: 1.95e+00, currPerf: 1.57e+00, bestPerf: 1.36e+00 , [Delta: 3.79e-01, ArgProb: -7.11e-03, Prob: 0.99] A\n",
      "CEC_PID_exp54 :: Step:    7, Action: Restart     , Temp: 1.43e+01, Card:   2, candPerf: 5.42e+00, currPerf: 1.95e+00, bestPerf: 1.36e+00 , [Delta: 3.48e+00, ArgProb: -7.61e-02, Prob: 0.93] A\n",
      "\n",
      "BEST --> Perf: 1.3649242402198816, e-Sol: [13  7]\n",
      "Performance:  1.3649242402198816\n",
      "[13  7]\n",
      "[('genetic_mutation', {'scale': 1.0, 'elite_rate': 0.1, 'mutation_rate': 0.25, 'distribution': 'uniform'}, 'greedy'), ('firefly_dynamic', {'distribution': 'uniform', 'alpha': 1.0, 'beta': 1.0, 'gamma': 100.0}, 'greedy')]\n"
     ]
    }
   ],
   "source": [
    "hyp = hh.Hyperheuristic(heuristic_space_list,problem=prob, parameters=parameters, file_label='CEC_PID_exp54')\n",
    "best_sol, best_perf, hist_curr, hist_best =hyp.solve()\n",
    "print(\"Performance: \", best_perf)\n",
    "print(best_sol)\n",
    "heur=[ heuristic_space_list[best_sol[0]] ]\n",
    "for i in range(1, len(best_sol)):\n",
    "    heur.append(heuristic_space_list[best_sol[1]])\n",
    "print(heur)"
   ]
  },
  {
   "cell_type": "code",
   "execution_count": 32,
   "id": "ddf22bf1",
   "metadata": {},
   "outputs": [
    {
     "name": "stdout",
     "output_type": "stream",
     "text": [
      "CEC_PID_exp55 :: Step:    0, Action: None        , Temp: 1.00e+02, Card:   2, Perf: 1.37e+00 [Initial]\n",
      "CEC_PID_exp55 :: Step:    1, Action: Swap        , Temp: 1.00e+02, Card:   2, candPerf: 1.19e+00, currPerf: 1.37e+00, bestPerf: 1.37e+00 , [Delta: -1.84e-01, ArgProb: 7.76e-04, Prob: 1.00] A+\n",
      "CEC_PID_exp55 :: Step:    2, Action: Restart     , Temp: 5.00e+01, Card:   2, candPerf: 1.47e+00, currPerf: 1.19e+00, bestPerf: 1.19e+00 , [Delta: 2.81e-01, ArgProb: -2.37e-03, Prob: 1.00] A\n",
      "CEC_PID_exp55 :: Step:    3, Action: LocalShift  , Temp: 3.33e+01, Card:   2, candPerf: 8.98e-01, currPerf: 1.47e+00, bestPerf: 1.19e+00 , [Delta: -5.72e-01, ArgProb: 7.23e-03, Prob: 1.00] A+\n",
      "CEC_PID_exp55 :: Step:    4, Action: Shift       , Temp: 2.50e+01, Card:   2, candPerf: 1.54e+00, currPerf: 8.98e-01, bestPerf: 8.98e-01 , [Delta: 6.37e-01, ArgProb: -1.07e-02, Prob: 0.99] A\n",
      "CEC_PID_exp55 :: Step:    5, Action: LocalShift  , Temp: 2.00e+01, Card:   2, candPerf: 1.84e+00, currPerf: 1.54e+00, bestPerf: 8.98e-01 , [Delta: 3.02e-01, ArgProb: -6.37e-03, Prob: 0.99] A\n",
      "CEC_PID_exp55 :: Step:    6, Action: Add         , Temp: 1.67e+01, Card:   3, candPerf: 3.17e+00, currPerf: 1.84e+00, bestPerf: 8.98e-01 , [Delta: 1.33e+00, ArgProb: -3.36e-02, Prob: 0.97] A\n",
      "CEC_PID_exp55 :: Step:    7, Action: Mirror      , Temp: 1.43e+01, Card:   3, candPerf: 3.76e+00, currPerf: 3.17e+00, bestPerf: 8.98e-01 , [Delta: 5.98e-01, ArgProb: -1.76e-02, Prob: 0.98] A\n",
      "\n",
      "BEST --> Perf: 0.898455574268284, e-Sol: [24  7]\n",
      "Performance:  0.898455574268284\n",
      "[24  7]\n",
      "[('spiral_dynamic', {'radius': 0.9, 'angle': 22.5, 'sigma': 0.1}, 'all'), ('firefly_dynamic', {'distribution': 'uniform', 'alpha': 1.0, 'beta': 1.0, 'gamma': 100.0}, 'greedy')]\n"
     ]
    }
   ],
   "source": [
    "hyp = hh.Hyperheuristic(heuristic_space_list,problem=prob, parameters=parameters, file_label='CEC_PID_exp55')\n",
    "best_sol, best_perf, hist_curr, hist_best =hyp.solve()\n",
    "print(\"Performance: \", best_perf)\n",
    "print(best_sol)\n",
    "heur=[ heuristic_space_list[best_sol[0]] ]\n",
    "for i in range(1, len(best_sol)):\n",
    "    heur.append(heuristic_space_list[best_sol[1]])\n",
    "print(heur)"
   ]
  },
  {
   "cell_type": "code",
   "execution_count": 33,
   "id": "41627f1d",
   "metadata": {},
   "outputs": [
    {
     "name": "stdout",
     "output_type": "stream",
     "text": [
      "CEC_PID_exp56 :: Step:    0, Action: None        , Temp: 1.00e+02, Card:   2, Perf: 4.00e+01 [Initial]\n",
      "CEC_PID_exp56 :: Step:    1, Action: LocalShift  , Temp: 1.00e+02, Card:   2, candPerf: 2.97e+00, currPerf: 4.00e+01, bestPerf: 4.00e+01 , [Delta: -3.71e+01, ArgProb: 9.03e-03, Prob: 1.00] A+\n",
      "CEC_PID_exp56 :: Step:    2, Action: Mirror      , Temp: 5.00e+01, Card:   2, candPerf: 2.83e+00, currPerf: 2.97e+00, bestPerf: 2.97e+00 , [Delta: -1.41e-01, ArgProb: 6.87e-05, Prob: 1.00] A+\n",
      "CEC_PID_exp56 :: Step:    3, Action: Swap        , Temp: 3.33e+01, Card:   2, candPerf: 3.19e+00, currPerf: 2.83e+00, bestPerf: 2.83e+00 , [Delta: 3.59e-01, ArgProb: -2.62e-04, Prob: 1.00] A\n",
      "CEC_PID_exp56 :: Step:    4, Action: Add         , Temp: 2.50e+01, Card:   3, candPerf: 3.25e+00, currPerf: 3.19e+00, bestPerf: 2.83e+00 , [Delta: 6.57e-02, ArgProb: -6.41e-05, Prob: 1.00] A\n",
      "CEC_PID_exp56 :: Step:    5, Action: LocalShift  , Temp: 2.00e+01, Card:   3, candPerf: 3.22e+01, currPerf: 3.25e+00, bestPerf: 2.83e+00 , [Delta: 2.90e+01, ArgProb: -3.53e-02, Prob: 0.97] A\n",
      "CEC_PID_exp56 :: Step:    6, Action: RollMany    , Temp: 1.67e+01, Card:   3, candPerf: 4.41e+01, currPerf: 3.22e+01, bestPerf: 2.83e+00 , [Delta: 1.18e+01, ArgProb: -1.73e-02, Prob: 0.98] A\n",
      "\n",
      "BEST --> Perf: 2.830680037043005, e-Sol: [12 10]\n",
      "Performance:  2.830680037043005\n",
      "[12 10]\n",
      "[('genetic_mutation', {'scale': 1.0, 'elite_rate': 0.1, 'mutation_rate': 0.25, 'distribution': 'uniform'}, 'all'), ('genetic_crossover', {'pairing': 'tournament_2_100', 'crossover': 'uniform', 'mating_pool_factor': 0.4}, 'all')]\n"
     ]
    }
   ],
   "source": [
    "hyp = hh.Hyperheuristic(heuristic_space_list,problem=prob, parameters=parameters, file_label='CEC_PID_exp56')\n",
    "best_sol, best_perf, hist_curr, hist_best =hyp.solve()\n",
    "print(\"Performance: \", best_perf)\n",
    "print(best_sol)\n",
    "heur=[ heuristic_space_list[best_sol[0]] ]\n",
    "for i in range(1, len(best_sol)):\n",
    "    heur.append(heuristic_space_list[best_sol[1]])\n",
    "print(heur)"
   ]
  },
  {
   "cell_type": "code",
   "execution_count": 34,
   "id": "802c1a47",
   "metadata": {},
   "outputs": [
    {
     "name": "stdout",
     "output_type": "stream",
     "text": [
      "CEC_PID_exp57 :: Step:    0, Action: None        , Temp: 1.00e+02, Card:   2, Perf: 4.32e+01 [Initial]\n",
      "CEC_PID_exp57 :: Step:    1, Action: Shift       , Temp: 1.00e+02, Card:   2, candPerf: 1.28e+01, currPerf: 4.32e+01, bestPerf: 4.32e+01 , [Delta: -3.04e+01, ArgProb: 6.88e-03, Prob: 1.00] A+\n",
      "CEC_PID_exp57 :: Step:    2, Action: Swap        , Temp: 5.00e+01, Card:   2, candPerf: 1.34e+01, currPerf: 1.28e+01, bestPerf: 1.28e+01 , [Delta: 6.32e-01, ArgProb: -2.86e-04, Prob: 1.00] A\n",
      "CEC_PID_exp57 :: Step:    3, Action: Shift       , Temp: 3.33e+01, Card:   2, candPerf: 3.34e+00, currPerf: 1.34e+01, bestPerf: 1.28e+01 , [Delta: -1.01e+01, ArgProb: 6.85e-03, Prob: 1.00] A+\n",
      "CEC_PID_exp57 :: Step:    4, Action: Mirror      , Temp: 2.50e+01, Card:   2, candPerf: 4.31e+00, currPerf: 3.34e+00, bestPerf: 3.34e+00 , [Delta: 9.65e-01, ArgProb: -8.74e-04, Prob: 1.00] A\n",
      "CEC_PID_exp57 :: Step:    5, Action: Add         , Temp: 2.00e+01, Card:   3, candPerf: 1.23e+00, currPerf: 4.31e+00, bestPerf: 3.34e+00 , [Delta: -3.08e+00, ArgProb: 3.48e-03, Prob: 1.00] A+\n",
      "CEC_PID_exp57 :: Step:    6, Action: Mirror      , Temp: 1.67e+01, Card:   3, candPerf: 1.18e+00, currPerf: 1.23e+00, bestPerf: 1.23e+00 , [Delta: -5.63e-02, ArgProb: 7.65e-05, Prob: 1.00] A+\n",
      "CEC_PID_exp57 :: Step:    7, Action: LocalShift  , Temp: 1.43e+01, Card:   3, candPerf: 1.11e+00, currPerf: 1.18e+00, bestPerf: 1.18e+00 , [Delta: -6.88e-02, ArgProb: 1.09e-04, Prob: 1.00] A+\n",
      "CEC_PID_exp57 :: Step:    8, Action: Mirror      , Temp: 1.25e+01, Card:   3, candPerf: 1.07e+00, currPerf: 1.11e+00, bestPerf: 1.11e+00 , [Delta: -3.95e-02, ArgProb: 7.15e-05, Prob: 1.00] A+\n",
      "CEC_PID_exp57 :: Step:    9, Action: RollMany    , Temp: 1.11e+01, Card:   3, candPerf: 1.15e+00, currPerf: 1.07e+00, bestPerf: 1.07e+00 , [Delta: 7.67e-02, ArgProb: -1.56e-04, Prob: 1.00] A\n",
      "CEC_PID_exp57 :: Step:   10, Action: Roll        , Temp: 1.00e+01, Card:   3, candPerf: 1.12e+00, currPerf: 1.15e+00, bestPerf: 1.07e+00 , [Delta: -2.67e-02, ArgProb: 6.05e-05, Prob: 1.00] A\n",
      "\n",
      "BEST --> Perf: 1.0683033017992885, e-Sol: [ 2 29 26]\n",
      "Performance:  1.0683033017992885\n",
      "[ 2 29 26]\n",
      "[('differential_mutation', {'expression': 'current-to-best', 'num_rands': 1, 'factor': 1.0}, 'all'), ('swarm_dynamic', {'factor': 1.0, 'self_conf': 2.54, 'swarm_conf': 2.56, 'version': 'constriction', 'distribution': 'uniform'}, 'greedy'), ('swarm_dynamic', {'factor': 1.0, 'self_conf': 2.54, 'swarm_conf': 2.56, 'version': 'constriction', 'distribution': 'uniform'}, 'greedy')]\n"
     ]
    }
   ],
   "source": [
    "hyp = hh.Hyperheuristic(heuristic_space_list,problem=prob, parameters=parameters, file_label='CEC_PID_exp57')\n",
    "best_sol, best_perf, hist_curr, hist_best =hyp.solve()\n",
    "print(\"Performance: \", best_perf)\n",
    "print(best_sol)\n",
    "heur=[ heuristic_space_list[best_sol[0]] ]\n",
    "for i in range(1, len(best_sol)):\n",
    "    heur.append(heuristic_space_list[best_sol[1]])\n",
    "print(heur)"
   ]
  },
  {
   "cell_type": "code",
   "execution_count": 35,
   "id": "a339bfa4",
   "metadata": {},
   "outputs": [
    {
     "name": "stdout",
     "output_type": "stream",
     "text": [
      "CEC_PID_exp58 :: Step:    0, Action: None        , Temp: 1.00e+02, Card:   2, Perf: 1.71e+00 [Initial]\n",
      "CEC_PID_exp58 :: Step:    1, Action: Roll        , Temp: 1.00e+02, Card:   2, candPerf: 1.77e+00, currPerf: 1.71e+00, bestPerf: 1.71e+00 , [Delta: 5.59e-02, ArgProb: -2.06e-04, Prob: 1.00] A\n",
      "CEC_PID_exp58 :: Step:    2, Action: Swap        , Temp: 5.00e+01, Card:   2, candPerf: 1.36e+00, currPerf: 1.77e+00, bestPerf: 1.71e+00 , [Delta: -4.11e-01, ArgProb: 3.03e-03, Prob: 1.00] A+\n",
      "CEC_PID_exp58 :: Step:    3, Action: Swap        , Temp: 3.33e+01, Card:   2, candPerf: 1.48e+00, currPerf: 1.36e+00, bestPerf: 1.36e+00 , [Delta: 1.17e-01, ArgProb: -1.29e-03, Prob: 1.00] A\n",
      "CEC_PID_exp58 :: Step:    4, Action: Shift       , Temp: 2.50e+01, Card:   2, candPerf: 2.05e+01, currPerf: 1.48e+00, bestPerf: 1.36e+00 , [Delta: 1.90e+01, ArgProb: -2.80e-01, Prob: 0.76] A\n",
      "CEC_PID_exp58 :: Step:    5, Action: RollMany    , Temp: 2.00e+01, Card:   2, candPerf: 1.73e+01, currPerf: 2.05e+01, bestPerf: 1.36e+00 , [Delta: -3.16e+00, ArgProb: 5.81e-02, Prob: 1.00] A\n",
      "CEC_PID_exp58 :: Step:    6, Action: Roll        , Temp: 1.67e+01, Card:   2, candPerf: 3.11e+01, currPerf: 1.73e+01, bestPerf: 1.36e+00 , [Delta: 1.37e+01, ArgProb: -3.04e-01, Prob: 0.74] A\n",
      "\n",
      "BEST --> Perf: 1.3595937693302278, e-Sol: [19 26]\n",
      "Performance:  1.3595937693302278\n",
      "[19 26]\n",
      "[('local_random_walk', {'probability': 0.75, 'scale': 1.0, 'distribution': 'gaussian'}, 'greedy'), ('swarm_dynamic', {'factor': 0.7, 'self_conf': 2.54, 'swarm_conf': 2.56, 'version': 'inertial', 'distribution': 'uniform'}, 'all')]\n"
     ]
    }
   ],
   "source": [
    "hyp = hh.Hyperheuristic(heuristic_space_list,problem=prob, parameters=parameters, file_label='CEC_PID_exp58')\n",
    "best_sol, best_perf, hist_curr, hist_best =hyp.solve()\n",
    "print(\"Performance: \", best_perf)\n",
    "print(best_sol)\n",
    "heur=[ heuristic_space_list[best_sol[0]] ]\n",
    "for i in range(1, len(best_sol)):\n",
    "    heur.append(heuristic_space_list[best_sol[1]])\n",
    "print(heur)"
   ]
  },
  {
   "cell_type": "code",
   "execution_count": 36,
   "id": "15ba6738",
   "metadata": {},
   "outputs": [
    {
     "name": "stdout",
     "output_type": "stream",
     "text": [
      "CEC_PID_exp59 :: Step:    0, Action: None        , Temp: 1.00e+02, Card:   2, Perf: 1.72e+00 [Initial]\n",
      "CEC_PID_exp59 :: Step:    1, Action: LocalShift  , Temp: 1.00e+02, Card:   2, candPerf: 1.36e+01, currPerf: 1.72e+00, bestPerf: 1.72e+00 , [Delta: 1.19e+01, ArgProb: -4.38e-02, Prob: 0.96] A\n",
      "CEC_PID_exp59 :: Step:    2, Action: RollMany    , Temp: 5.00e+01, Card:   2, candPerf: 1.13e+01, currPerf: 1.36e+01, bestPerf: 1.72e+00 , [Delta: -2.34e+00, ArgProb: 1.72e-02, Prob: 1.00] A\n",
      "CEC_PID_exp59 :: Step:    3, Action: LocalShift  , Temp: 3.33e+01, Card:   2, candPerf: 7.13e-01, currPerf: 1.13e+01, bestPerf: 1.72e+00 , [Delta: -1.06e+01, ArgProb: 1.17e-01, Prob: 1.00] A+\n",
      "CEC_PID_exp59 :: Step:    4, Action: Shift       , Temp: 2.50e+01, Card:   2, candPerf: 2.17e+00, currPerf: 7.13e-01, bestPerf: 7.13e-01 , [Delta: 1.45e+00, ArgProb: -2.14e-02, Prob: 0.98] A\n",
      "CEC_PID_exp59 :: Step:    5, Action: Add         , Temp: 2.00e+01, Card:   3, candPerf: 3.15e-01, currPerf: 2.17e+00, bestPerf: 7.13e-01 , [Delta: -1.85e+00, ArgProb: 3.41e-02, Prob: 1.00] A+\n",
      "CEC_PID_exp59 :: Step:    6, Action: Roll        , Temp: 1.67e+01, Card:   3, candPerf: 6.29e-01, currPerf: 3.15e-01, bestPerf: 3.15e-01 , [Delta: 3.13e-01, ArgProb: -6.93e-03, Prob: 0.99] A\n",
      "CEC_PID_exp59 :: Step:    7, Action: Shift       , Temp: 1.43e+01, Card:   3, candPerf: 6.07e-01, currPerf: 6.29e-01, bestPerf: 3.15e-01 , [Delta: -2.19e-02, ArgProb: 5.64e-04, Prob: 1.00] A\n",
      "CEC_PID_exp59 :: Step:    8, Action: Remove      , Temp: 1.25e+01, Card:   2, candPerf: 1.51e+00, currPerf: 6.07e-01, bestPerf: 3.15e-01 , [Delta: 9.01e-01, ArgProb: -2.66e-02, Prob: 0.97] A\n",
      "CEC_PID_exp59 :: Step:    9, Action: RollMany    , Temp: 1.11e+01, Card:   2, candPerf: 1.23e+00, currPerf: 1.51e+00, bestPerf: 3.15e-01 , [Delta: -2.75e-01, ArgProb: 9.12e-03, Prob: 1.00] A\n",
      "\n",
      "BEST --> Perf: 0.3153507793945514, e-Sol: [29 23 26]\n",
      "Performance:  0.3153507793945514\n",
      "[29 23 26]\n",
      "[('swarm_dynamic', {'factor': 1.0, 'self_conf': 2.54, 'swarm_conf': 2.56, 'version': 'constriction', 'distribution': 'uniform'}, 'greedy'), ('random_search', {'scale': 0.01, 'distribution': 'uniform'}, 'greedy'), ('random_search', {'scale': 0.01, 'distribution': 'uniform'}, 'greedy')]\n"
     ]
    }
   ],
   "source": [
    "hyp = hh.Hyperheuristic(heuristic_space_list,problem=prob, parameters=parameters, file_label='CEC_PID_exp59')\n",
    "best_sol, best_perf, hist_curr, hist_best =hyp.solve()\n",
    "print(\"Performance: \", best_perf)\n",
    "print(best_sol)\n",
    "heur=[ heuristic_space_list[best_sol[0]] ]\n",
    "for i in range(1, len(best_sol)):\n",
    "    heur.append(heuristic_space_list[best_sol[1]])\n",
    "print(heur)"
   ]
  },
  {
   "cell_type": "code",
   "execution_count": 37,
   "id": "68e1f741",
   "metadata": {},
   "outputs": [
    {
     "name": "stdout",
     "output_type": "stream",
     "text": [
      "CEC_PID_exp60 :: Step:    0, Action: None        , Temp: 1.00e+02, Card:   2, Perf: 5.06e+00 [Initial]\n",
      "CEC_PID_exp60 :: Step:    1, Action: RollMany    , Temp: 1.00e+02, Card:   2, candPerf: 4.25e+00, currPerf: 5.06e+00, bestPerf: 5.06e+00 , [Delta: -8.04e-01, ArgProb: 1.33e-03, Prob: 1.00] A+\n",
      "CEC_PID_exp60 :: Step:    2, Action: Shift       , Temp: 5.00e+01, Card:   2, candPerf: 1.49e+00, currPerf: 4.25e+00, bestPerf: 4.25e+00 , [Delta: -2.76e+00, ArgProb: 9.12e-03, Prob: 1.00] A+\n",
      "CEC_PID_exp60 :: Step:    3, Action: Restart     , Temp: 3.33e+01, Card:   2, candPerf: 2.74e-01, currPerf: 1.49e+00, bestPerf: 1.49e+00 , [Delta: -1.22e+00, ArgProb: 6.02e-03, Prob: 1.00] A+\n",
      "CEC_PID_exp60 :: Step:    4, Action: Swap        , Temp: 2.50e+01, Card:   2, candPerf: 2.23e-01, currPerf: 2.74e-01, bestPerf: 2.74e-01 , [Delta: -5.14e-02, ArgProb: 3.39e-04, Prob: 1.00] A+\n",
      "CEC_PID_exp60 :: Step:    5, Action: RollMany    , Temp: 2.00e+01, Card:   2, candPerf: 1.66e-01, currPerf: 2.23e-01, bestPerf: 2.23e-01 , [Delta: -5.71e-02, ArgProb: 4.71e-04, Prob: 1.00] A+\n",
      "CEC_PID_exp60 :: Step:    6, Action: Mirror      , Temp: 1.67e+01, Card:   2, candPerf: 1.61e-01, currPerf: 1.66e-01, bestPerf: 1.66e-01 , [Delta: -4.99e-03, ArgProb: 4.94e-05, Prob: 1.00] A+\n",
      "CEC_PID_exp60 :: Step:    7, Action: Add         , Temp: 1.43e+01, Card:   3, candPerf: 1.79e-01, currPerf: 1.61e-01, bestPerf: 1.61e-01 , [Delta: 1.82e-02, ArgProb: -2.11e-04, Prob: 1.00] A\n",
      "CEC_PID_exp60 :: Step:    8, Action: Roll        , Temp: 1.25e+01, Card:   3, candPerf: 1.49e-01, currPerf: 1.79e-01, bestPerf: 1.61e-01 , [Delta: -3.03e-02, ArgProb: 4.01e-04, Prob: 1.00] A+\n",
      "CEC_PID_exp60 :: Step:    9, Action: Roll        , Temp: 1.11e+01, Card:   3, candPerf: 1.93e-01, currPerf: 1.49e-01, bestPerf: 1.49e-01 , [Delta: 4.47e-02, ArgProb: -6.65e-04, Prob: 1.00] A\n",
      "CEC_PID_exp60 :: Step:   10, Action: Swap        , Temp: 1.00e+01, Card:   3, candPerf: 1.46e-01, currPerf: 1.93e-01, bestPerf: 1.49e-01 , [Delta: -4.76e-02, ArgProb: 7.86e-04, Prob: 1.00] A+\n",
      "\n",
      "BEST --> Perf: 0.14570924161256044, e-Sol: [17 29  3]\n",
      "Performance:  0.14570924161256044\n",
      "[17 29  3]\n",
      "[('random_flight', {'scale': 1.0, 'distribution': 'levy', 'beta': 1.5}, 'greedy'), ('swarm_dynamic', {'factor': 1.0, 'self_conf': 2.54, 'swarm_conf': 2.56, 'version': 'constriction', 'distribution': 'uniform'}, 'greedy'), ('swarm_dynamic', {'factor': 1.0, 'self_conf': 2.54, 'swarm_conf': 2.56, 'version': 'constriction', 'distribution': 'uniform'}, 'greedy')]\n"
     ]
    }
   ],
   "source": [
    "hyp = hh.Hyperheuristic(heuristic_space_list,problem=prob, parameters=parameters, file_label='CEC_PID_exp60')\n",
    "best_sol, best_perf, hist_curr, hist_best =hyp.solve()\n",
    "print(\"Performance: \", best_perf)\n",
    "print(best_sol)\n",
    "heur=[ heuristic_space_list[best_sol[0]] ]\n",
    "for i in range(1, len(best_sol)):\n",
    "    heur.append(heuristic_space_list[best_sol[1]])\n",
    "print(heur)"
   ]
  },
  {
   "cell_type": "code",
   "execution_count": null,
   "id": "5c9b64ab",
   "metadata": {},
   "outputs": [],
   "source": []
  }
 ],
 "metadata": {
  "kernelspec": {
   "display_name": "Python 3 (ipykernel)",
   "language": "python",
   "name": "python3"
  },
  "language_info": {
   "codemirror_mode": {
    "name": "ipython",
    "version": 3
   },
   "file_extension": ".py",
   "mimetype": "text/x-python",
   "name": "python",
   "nbconvert_exporter": "python",
   "pygments_lexer": "ipython3",
   "version": "3.10.9"
  }
 },
 "nbformat": 4,
 "nbformat_minor": 5
}
